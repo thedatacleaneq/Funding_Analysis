{
 "cells": [
  {
   "cell_type": "code",
   "execution_count": 1,
   "id": "261afa86",
   "metadata": {},
   "outputs": [],
   "source": [
    "import pandas as pd\n",
    "import seaborn as sns\n",
    "import matplotlib.pyplot as plt\n",
    "import math\n"
   ]
  },
  {
   "cell_type": "code",
   "execution_count": 2,
   "id": "ed229e3a",
   "metadata": {},
   "outputs": [],
   "source": [
    "df=pd.read_csv('startup_funding2018.csv')\n",
    "df1=pd.read_csv('startup_funding2019.csv')\n",
    "df3=pd.read_csv('startup_funding2021.csv')\n",
    "df2=pd.read_csv('startup_funding2020.csv')"
   ]
  },
  {
   "cell_type": "code",
   "execution_count": 3,
   "id": "ff6d291d",
   "metadata": {},
   "outputs": [
    {
     "data": {
      "text/html": [
       "<div>\n",
       "<style scoped>\n",
       "    .dataframe tbody tr th:only-of-type {\n",
       "        vertical-align: middle;\n",
       "    }\n",
       "\n",
       "    .dataframe tbody tr th {\n",
       "        vertical-align: top;\n",
       "    }\n",
       "\n",
       "    .dataframe thead th {\n",
       "        text-align: right;\n",
       "    }\n",
       "</style>\n",
       "<table border=\"1\" class=\"dataframe\">\n",
       "  <thead>\n",
       "    <tr style=\"text-align: right;\">\n",
       "      <th></th>\n",
       "      <th>Company Name</th>\n",
       "      <th>Industry</th>\n",
       "      <th>Round/Series</th>\n",
       "      <th>Amount</th>\n",
       "      <th>Location</th>\n",
       "      <th>About Company</th>\n",
       "    </tr>\n",
       "  </thead>\n",
       "  <tbody>\n",
       "    <tr>\n",
       "      <th>0</th>\n",
       "      <td>TheCollegeFever</td>\n",
       "      <td>Brand Marketing, Event Promotion, Marketing, S...</td>\n",
       "      <td>Seed</td>\n",
       "      <td>250000</td>\n",
       "      <td>Bangalore, Karnataka, India</td>\n",
       "      <td>TheCollegeFever is a hub for fun, fiesta and f...</td>\n",
       "    </tr>\n",
       "    <tr>\n",
       "      <th>1</th>\n",
       "      <td>Happy Cow Dairy</td>\n",
       "      <td>Agriculture, Farming</td>\n",
       "      <td>Seed</td>\n",
       "      <td>₹40,000,000</td>\n",
       "      <td>Mumbai, Maharashtra, India</td>\n",
       "      <td>A startup which aggregates milk from dairy far...</td>\n",
       "    </tr>\n",
       "    <tr>\n",
       "      <th>2</th>\n",
       "      <td>MyLoanCare</td>\n",
       "      <td>Credit, Financial Services, Lending, Marketplace</td>\n",
       "      <td>Series A</td>\n",
       "      <td>₹65,000,000</td>\n",
       "      <td>Gurgaon, Haryana, India</td>\n",
       "      <td>Leading Online Loans Marketplace in India</td>\n",
       "    </tr>\n",
       "    <tr>\n",
       "      <th>3</th>\n",
       "      <td>PayMe India</td>\n",
       "      <td>Financial Services, FinTech</td>\n",
       "      <td>Angel</td>\n",
       "      <td>2000000</td>\n",
       "      <td>Noida, Uttar Pradesh, India</td>\n",
       "      <td>PayMe India is an innovative FinTech organizat...</td>\n",
       "    </tr>\n",
       "    <tr>\n",
       "      <th>4</th>\n",
       "      <td>Eunimart</td>\n",
       "      <td>E-Commerce Platforms, Retail, SaaS</td>\n",
       "      <td>Seed</td>\n",
       "      <td>—</td>\n",
       "      <td>Hyderabad, Andhra Pradesh, India</td>\n",
       "      <td>Eunimart is a one stop solution for merchants ...</td>\n",
       "    </tr>\n",
       "  </tbody>\n",
       "</table>\n",
       "</div>"
      ],
      "text/plain": [
       "      Company Name                                           Industry  \\\n",
       "0  TheCollegeFever  Brand Marketing, Event Promotion, Marketing, S...   \n",
       "1  Happy Cow Dairy                               Agriculture, Farming   \n",
       "2       MyLoanCare   Credit, Financial Services, Lending, Marketplace   \n",
       "3      PayMe India                        Financial Services, FinTech   \n",
       "4         Eunimart                 E-Commerce Platforms, Retail, SaaS   \n",
       "\n",
       "  Round/Series       Amount                          Location  \\\n",
       "0         Seed       250000       Bangalore, Karnataka, India   \n",
       "1         Seed  ₹40,000,000        Mumbai, Maharashtra, India   \n",
       "2     Series A  ₹65,000,000           Gurgaon, Haryana, India   \n",
       "3        Angel      2000000       Noida, Uttar Pradesh, India   \n",
       "4         Seed            —  Hyderabad, Andhra Pradesh, India   \n",
       "\n",
       "                                       About Company  \n",
       "0  TheCollegeFever is a hub for fun, fiesta and f...  \n",
       "1  A startup which aggregates milk from dairy far...  \n",
       "2          Leading Online Loans Marketplace in India  \n",
       "3  PayMe India is an innovative FinTech organizat...  \n",
       "4  Eunimart is a one stop solution for merchants ...  "
      ]
     },
     "execution_count": 3,
     "metadata": {},
     "output_type": "execute_result"
    }
   ],
   "source": [
    "df.head()"
   ]
  },
  {
   "cell_type": "code",
   "execution_count": 4,
   "id": "ea715233",
   "metadata": {
    "scrolled": true
   },
   "outputs": [
    {
     "data": {
      "text/html": [
       "<div>\n",
       "<style scoped>\n",
       "    .dataframe tbody tr th:only-of-type {\n",
       "        vertical-align: middle;\n",
       "    }\n",
       "\n",
       "    .dataframe tbody tr th {\n",
       "        vertical-align: top;\n",
       "    }\n",
       "\n",
       "    .dataframe thead th {\n",
       "        text-align: right;\n",
       "    }\n",
       "</style>\n",
       "<table border=\"1\" class=\"dataframe\">\n",
       "  <thead>\n",
       "    <tr style=\"text-align: right;\">\n",
       "      <th></th>\n",
       "      <th>Company/Brand</th>\n",
       "      <th>Founded</th>\n",
       "      <th>HeadQuarter</th>\n",
       "      <th>Sector</th>\n",
       "      <th>What it does</th>\n",
       "      <th>Founders</th>\n",
       "      <th>Investor</th>\n",
       "      <th>Amount($)</th>\n",
       "      <th>Stage</th>\n",
       "    </tr>\n",
       "  </thead>\n",
       "  <tbody>\n",
       "    <tr>\n",
       "      <th>0</th>\n",
       "      <td>Bombay Shaving</td>\n",
       "      <td>NaN</td>\n",
       "      <td>NaN</td>\n",
       "      <td>Ecommerce</td>\n",
       "      <td>Provides a range of male grooming products</td>\n",
       "      <td>Shantanu Deshpande</td>\n",
       "      <td>Sixth Sense Ventures</td>\n",
       "      <td>$6,300,000</td>\n",
       "      <td>NaN</td>\n",
       "    </tr>\n",
       "    <tr>\n",
       "      <th>1</th>\n",
       "      <td>Ruangguru</td>\n",
       "      <td>2014.0</td>\n",
       "      <td>Mumbai</td>\n",
       "      <td>Edtech</td>\n",
       "      <td>A learning platform that provides topic-based ...</td>\n",
       "      <td>Adamas Belva Syah Devara, Iman Usman.</td>\n",
       "      <td>General Atlantic</td>\n",
       "      <td>$150,000,000</td>\n",
       "      <td>Series C</td>\n",
       "    </tr>\n",
       "    <tr>\n",
       "      <th>2</th>\n",
       "      <td>Eduisfun</td>\n",
       "      <td>NaN</td>\n",
       "      <td>Mumbai</td>\n",
       "      <td>Edtech</td>\n",
       "      <td>It aims to make learning fun via games.</td>\n",
       "      <td>Jatin Solanki</td>\n",
       "      <td>Deepak Parekh, Amitabh Bachchan, Piyush Pandey</td>\n",
       "      <td>$28,000,000</td>\n",
       "      <td>Fresh funding</td>\n",
       "    </tr>\n",
       "    <tr>\n",
       "      <th>3</th>\n",
       "      <td>HomeLane</td>\n",
       "      <td>2014.0</td>\n",
       "      <td>Chennai</td>\n",
       "      <td>Interior design</td>\n",
       "      <td>Provides interior designing solutions</td>\n",
       "      <td>Srikanth Iyer, Rama Harinath</td>\n",
       "      <td>Evolvence India Fund (EIF), Pidilite Group, FJ...</td>\n",
       "      <td>$30,000,000</td>\n",
       "      <td>Series D</td>\n",
       "    </tr>\n",
       "    <tr>\n",
       "      <th>4</th>\n",
       "      <td>Nu Genes</td>\n",
       "      <td>2004.0</td>\n",
       "      <td>Telangana</td>\n",
       "      <td>AgriTech</td>\n",
       "      <td>It is a seed company engaged in production, pr...</td>\n",
       "      <td>Narayana Reddy Punyala</td>\n",
       "      <td>Innovation in Food and Agriculture (IFA)</td>\n",
       "      <td>$6,000,000</td>\n",
       "      <td>NaN</td>\n",
       "    </tr>\n",
       "  </tbody>\n",
       "</table>\n",
       "</div>"
      ],
      "text/plain": [
       "    Company/Brand  Founded HeadQuarter           Sector  \\\n",
       "0  Bombay Shaving      NaN         NaN        Ecommerce   \n",
       "1       Ruangguru   2014.0      Mumbai           Edtech   \n",
       "2        Eduisfun      NaN      Mumbai           Edtech   \n",
       "3        HomeLane   2014.0     Chennai  Interior design   \n",
       "4        Nu Genes   2004.0   Telangana         AgriTech   \n",
       "\n",
       "                                        What it does  \\\n",
       "0         Provides a range of male grooming products   \n",
       "1  A learning platform that provides topic-based ...   \n",
       "2            It aims to make learning fun via games.   \n",
       "3              Provides interior designing solutions   \n",
       "4  It is a seed company engaged in production, pr...   \n",
       "\n",
       "                                Founders  \\\n",
       "0                     Shantanu Deshpande   \n",
       "1  Adamas Belva Syah Devara, Iman Usman.   \n",
       "2                          Jatin Solanki   \n",
       "3           Srikanth Iyer, Rama Harinath   \n",
       "4                 Narayana Reddy Punyala   \n",
       "\n",
       "                                            Investor      Amount($)  \\\n",
       "0                               Sixth Sense Ventures    $6,300,000    \n",
       "1                                   General Atlantic  $150,000,000    \n",
       "2     Deepak Parekh, Amitabh Bachchan, Piyush Pandey   $28,000,000    \n",
       "3  Evolvence India Fund (EIF), Pidilite Group, FJ...   $30,000,000    \n",
       "4           Innovation in Food and Agriculture (IFA)    $6,000,000    \n",
       "\n",
       "           Stage  \n",
       "0            NaN  \n",
       "1       Series C  \n",
       "2  Fresh funding  \n",
       "3       Series D  \n",
       "4            NaN  "
      ]
     },
     "execution_count": 4,
     "metadata": {},
     "output_type": "execute_result"
    }
   ],
   "source": [
    "df1.head()"
   ]
  },
  {
   "cell_type": "code",
   "execution_count": 5,
   "id": "35cd382a",
   "metadata": {},
   "outputs": [
    {
     "data": {
      "text/html": [
       "<div>\n",
       "<style scoped>\n",
       "    .dataframe tbody tr th:only-of-type {\n",
       "        vertical-align: middle;\n",
       "    }\n",
       "\n",
       "    .dataframe tbody tr th {\n",
       "        vertical-align: top;\n",
       "    }\n",
       "\n",
       "    .dataframe thead th {\n",
       "        text-align: right;\n",
       "    }\n",
       "</style>\n",
       "<table border=\"1\" class=\"dataframe\">\n",
       "  <thead>\n",
       "    <tr style=\"text-align: right;\">\n",
       "      <th></th>\n",
       "      <th>Company/Brand</th>\n",
       "      <th>Founded</th>\n",
       "      <th>HeadQuarter</th>\n",
       "      <th>Sector</th>\n",
       "      <th>What it does</th>\n",
       "      <th>Founders</th>\n",
       "      <th>Investor</th>\n",
       "      <th>Amount($)</th>\n",
       "      <th>Stage</th>\n",
       "      <th>Unnamed: 9</th>\n",
       "    </tr>\n",
       "  </thead>\n",
       "  <tbody>\n",
       "    <tr>\n",
       "      <th>0</th>\n",
       "      <td>Aqgromalin</td>\n",
       "      <td>2019</td>\n",
       "      <td>Chennai</td>\n",
       "      <td>AgriTech</td>\n",
       "      <td>Cultivating Ideas for Profit</td>\n",
       "      <td>Prasanna Manogaran, Bharani C L</td>\n",
       "      <td>Angel investors</td>\n",
       "      <td>$200,000</td>\n",
       "      <td>NaN</td>\n",
       "      <td>NaN</td>\n",
       "    </tr>\n",
       "    <tr>\n",
       "      <th>1</th>\n",
       "      <td>Krayonnz</td>\n",
       "      <td>2019</td>\n",
       "      <td>Bangalore</td>\n",
       "      <td>EdTech</td>\n",
       "      <td>An academy-guardian-scholar centric ecosystem ...</td>\n",
       "      <td>Saurabh Dixit, Gurudutt Upadhyay</td>\n",
       "      <td>GSF Accelerator</td>\n",
       "      <td>$100,000</td>\n",
       "      <td>Pre-seed</td>\n",
       "      <td>NaN</td>\n",
       "    </tr>\n",
       "    <tr>\n",
       "      <th>2</th>\n",
       "      <td>PadCare Labs</td>\n",
       "      <td>2018</td>\n",
       "      <td>Pune</td>\n",
       "      <td>Hygiene management</td>\n",
       "      <td>Converting bio-hazardous waste to harmless waste</td>\n",
       "      <td>Ajinkya Dhariya</td>\n",
       "      <td>Venture Center</td>\n",
       "      <td>—</td>\n",
       "      <td>Pre-seed</td>\n",
       "      <td>NaN</td>\n",
       "    </tr>\n",
       "    <tr>\n",
       "      <th>3</th>\n",
       "      <td>NCOME</td>\n",
       "      <td>2020</td>\n",
       "      <td>New Delhi</td>\n",
       "      <td>Escrow</td>\n",
       "      <td>Escrow-as-a-service platform</td>\n",
       "      <td>Ritesh Tiwari</td>\n",
       "      <td>Venture Catalysts, PointOne Capital</td>\n",
       "      <td>$400,000</td>\n",
       "      <td>NaN</td>\n",
       "      <td>NaN</td>\n",
       "    </tr>\n",
       "    <tr>\n",
       "      <th>4</th>\n",
       "      <td>Gramophone</td>\n",
       "      <td>2016</td>\n",
       "      <td>Indore</td>\n",
       "      <td>AgriTech</td>\n",
       "      <td>Gramophone is an AgTech platform enabling acce...</td>\n",
       "      <td>Ashish Rajan Singh, Harshit Gupta, Nishant Mah...</td>\n",
       "      <td>Siana Capital Management, Info Edge</td>\n",
       "      <td>$340,000</td>\n",
       "      <td>NaN</td>\n",
       "      <td>NaN</td>\n",
       "    </tr>\n",
       "  </tbody>\n",
       "</table>\n",
       "</div>"
      ],
      "text/plain": [
       "  Company/Brand Founded HeadQuarter              Sector  \\\n",
       "0    Aqgromalin    2019     Chennai            AgriTech   \n",
       "1      Krayonnz    2019   Bangalore              EdTech   \n",
       "2  PadCare Labs    2018        Pune  Hygiene management   \n",
       "3         NCOME    2020   New Delhi              Escrow   \n",
       "4    Gramophone    2016      Indore            AgriTech   \n",
       "\n",
       "                                        What it does  \\\n",
       "0                       Cultivating Ideas for Profit   \n",
       "1  An academy-guardian-scholar centric ecosystem ...   \n",
       "2   Converting bio-hazardous waste to harmless waste   \n",
       "3                       Escrow-as-a-service platform   \n",
       "4  Gramophone is an AgTech platform enabling acce...   \n",
       "\n",
       "                                            Founders  \\\n",
       "0                    Prasanna Manogaran, Bharani C L   \n",
       "1                   Saurabh Dixit, Gurudutt Upadhyay   \n",
       "2                                    Ajinkya Dhariya   \n",
       "3                                      Ritesh Tiwari   \n",
       "4  Ashish Rajan Singh, Harshit Gupta, Nishant Mah...   \n",
       "\n",
       "                              Investor  Amount($)     Stage Unnamed: 9  \n",
       "0                      Angel investors  $200,000        NaN        NaN  \n",
       "1                      GSF Accelerator  $100,000   Pre-seed        NaN  \n",
       "2                       Venture Center          —  Pre-seed        NaN  \n",
       "3  Venture Catalysts, PointOne Capital  $400,000        NaN        NaN  \n",
       "4  Siana Capital Management, Info Edge  $340,000        NaN        NaN  "
      ]
     },
     "execution_count": 5,
     "metadata": {},
     "output_type": "execute_result"
    }
   ],
   "source": [
    "df2.head()"
   ]
  },
  {
   "cell_type": "code",
   "execution_count": 6,
   "id": "78b96029",
   "metadata": {},
   "outputs": [
    {
     "data": {
      "text/html": [
       "<div>\n",
       "<style scoped>\n",
       "    .dataframe tbody tr th:only-of-type {\n",
       "        vertical-align: middle;\n",
       "    }\n",
       "\n",
       "    .dataframe tbody tr th {\n",
       "        vertical-align: top;\n",
       "    }\n",
       "\n",
       "    .dataframe thead th {\n",
       "        text-align: right;\n",
       "    }\n",
       "</style>\n",
       "<table border=\"1\" class=\"dataframe\">\n",
       "  <thead>\n",
       "    <tr style=\"text-align: right;\">\n",
       "      <th></th>\n",
       "      <th>Company/Brand</th>\n",
       "      <th>Founded</th>\n",
       "      <th>HeadQuarter</th>\n",
       "      <th>Sector</th>\n",
       "      <th>What it does</th>\n",
       "      <th>Founders</th>\n",
       "      <th>Investor</th>\n",
       "      <th>Amount($)</th>\n",
       "      <th>Stage</th>\n",
       "    </tr>\n",
       "  </thead>\n",
       "  <tbody>\n",
       "    <tr>\n",
       "      <th>0</th>\n",
       "      <td>Unbox Robotics</td>\n",
       "      <td>2019.0</td>\n",
       "      <td>Bangalore</td>\n",
       "      <td>AI startup</td>\n",
       "      <td>Unbox Robotics builds on-demand AI-driven ware...</td>\n",
       "      <td>Pramod Ghadge, Shahid Memon</td>\n",
       "      <td>BEENEXT, Entrepreneur First</td>\n",
       "      <td>$1,200,000</td>\n",
       "      <td>Pre-series A</td>\n",
       "    </tr>\n",
       "    <tr>\n",
       "      <th>1</th>\n",
       "      <td>upGrad</td>\n",
       "      <td>2015.0</td>\n",
       "      <td>Mumbai</td>\n",
       "      <td>EdTech</td>\n",
       "      <td>UpGrad is an online higher education platform.</td>\n",
       "      <td>Mayank Kumar, Phalgun Kompalli, Ravijot Chugh,...</td>\n",
       "      <td>Unilazer Ventures, IIFL Asset Management</td>\n",
       "      <td>$120,000,000</td>\n",
       "      <td>NaN</td>\n",
       "    </tr>\n",
       "    <tr>\n",
       "      <th>2</th>\n",
       "      <td>Lead School</td>\n",
       "      <td>2012.0</td>\n",
       "      <td>Mumbai</td>\n",
       "      <td>EdTech</td>\n",
       "      <td>LEAD School offers technology based school tra...</td>\n",
       "      <td>Smita Deorah, Sumeet Mehta</td>\n",
       "      <td>GSV Ventures, Westbridge Capital</td>\n",
       "      <td>$30,000,000</td>\n",
       "      <td>Series D</td>\n",
       "    </tr>\n",
       "    <tr>\n",
       "      <th>3</th>\n",
       "      <td>Bizongo</td>\n",
       "      <td>2015.0</td>\n",
       "      <td>Mumbai</td>\n",
       "      <td>B2B E-commerce</td>\n",
       "      <td>Bizongo is a business-to-business online marke...</td>\n",
       "      <td>Aniket Deb, Ankit Tomar, Sachin Agrawal</td>\n",
       "      <td>CDC Group, IDG Capital</td>\n",
       "      <td>$51,000,000</td>\n",
       "      <td>Series C</td>\n",
       "    </tr>\n",
       "    <tr>\n",
       "      <th>4</th>\n",
       "      <td>FypMoney</td>\n",
       "      <td>2021.0</td>\n",
       "      <td>Gurugram</td>\n",
       "      <td>FinTech</td>\n",
       "      <td>FypMoney is Digital NEO Bank for Teenagers, em...</td>\n",
       "      <td>Kapil Banwari</td>\n",
       "      <td>Liberatha Kallat, Mukesh Yadav, Dinesh Nagpal</td>\n",
       "      <td>$2,000,000</td>\n",
       "      <td>Seed</td>\n",
       "    </tr>\n",
       "  </tbody>\n",
       "</table>\n",
       "</div>"
      ],
      "text/plain": [
       "    Company/Brand  Founded HeadQuarter          Sector  \\\n",
       "0  Unbox Robotics   2019.0   Bangalore      AI startup   \n",
       "1          upGrad   2015.0      Mumbai          EdTech   \n",
       "2     Lead School   2012.0      Mumbai          EdTech   \n",
       "3         Bizongo   2015.0      Mumbai  B2B E-commerce   \n",
       "4        FypMoney   2021.0    Gurugram         FinTech   \n",
       "\n",
       "                                        What it does  \\\n",
       "0  Unbox Robotics builds on-demand AI-driven ware...   \n",
       "1     UpGrad is an online higher education platform.   \n",
       "2  LEAD School offers technology based school tra...   \n",
       "3  Bizongo is a business-to-business online marke...   \n",
       "4  FypMoney is Digital NEO Bank for Teenagers, em...   \n",
       "\n",
       "                                            Founders  \\\n",
       "0                        Pramod Ghadge, Shahid Memon   \n",
       "1  Mayank Kumar, Phalgun Kompalli, Ravijot Chugh,...   \n",
       "2                         Smita Deorah, Sumeet Mehta   \n",
       "3            Aniket Deb, Ankit Tomar, Sachin Agrawal   \n",
       "4                                      Kapil Banwari   \n",
       "\n",
       "                                        Investor      Amount($)         Stage  \n",
       "0                    BEENEXT, Entrepreneur First    $1,200,000   Pre-series A  \n",
       "1       Unilazer Ventures, IIFL Asset Management  $120,000,000            NaN  \n",
       "2               GSV Ventures, Westbridge Capital   $30,000,000       Series D  \n",
       "3                         CDC Group, IDG Capital   $51,000,000       Series C  \n",
       "4  Liberatha Kallat, Mukesh Yadav, Dinesh Nagpal    $2,000,000           Seed  "
      ]
     },
     "execution_count": 6,
     "metadata": {},
     "output_type": "execute_result"
    }
   ],
   "source": [
    "df3.head()"
   ]
  },
  {
   "cell_type": "code",
   "execution_count": 7,
   "id": "543ecd64",
   "metadata": {},
   "outputs": [
    {
     "data": {
      "text/plain": [
       "Index(['Company/Brand', 'Founded', 'HeadQuarter', 'Sector', 'What it does',\n",
       "       'Founders', 'Investor', 'Amount($)', 'Stage'],\n",
       "      dtype='object')"
      ]
     },
     "execution_count": 7,
     "metadata": {},
     "output_type": "execute_result"
    }
   ],
   "source": [
    "df1.columns"
   ]
  },
  {
   "cell_type": "code",
   "execution_count": 8,
   "id": "558c3201",
   "metadata": {},
   "outputs": [
    {
     "data": {
      "text/plain": [
       "Index(['Company Name', 'Industry', 'Round/Series', 'Amount', 'Location',\n",
       "       'About Company'],\n",
       "      dtype='object')"
      ]
     },
     "execution_count": 8,
     "metadata": {},
     "output_type": "execute_result"
    }
   ],
   "source": [
    "df.columns"
   ]
  },
  {
   "cell_type": "code",
   "execution_count": 9,
   "id": "c1ee13ad",
   "metadata": {},
   "outputs": [],
   "source": [
    "df.rename(columns={'Company Name':'Company/Brand','Location':'HeadQuarter','About Company':'What it does','Industry':'Sector','Amount':'Amount($)','Round/Series':'Stage',},inplace=True)"
   ]
  },
  {
   "cell_type": "code",
   "execution_count": 10,
   "id": "bcc07599",
   "metadata": {},
   "outputs": [],
   "source": [
    "if 'Unnamed: 9' in df2.columns:\n",
    "    df2.drop('Unnamed: 9',axis=1,inplace=True)"
   ]
  },
  {
   "cell_type": "code",
   "execution_count": 11,
   "id": "546f4d12",
   "metadata": {},
   "outputs": [],
   "source": [
    "df['year']=2018\n",
    "df1['year']=2019\n",
    "df2['year']=2020\n",
    "df3['year']=2021"
   ]
  },
  {
   "cell_type": "code",
   "execution_count": 12,
   "id": "a9275daa",
   "metadata": {},
   "outputs": [],
   "source": [
    "columns=[df,df1,df2,df3]\n",
    "data=pd.concat(columns)"
   ]
  },
  {
   "cell_type": "code",
   "execution_count": 13,
   "id": "a51d05b8",
   "metadata": {},
   "outputs": [
    {
     "data": {
      "text/html": [
       "<div>\n",
       "<style scoped>\n",
       "    .dataframe tbody tr th:only-of-type {\n",
       "        vertical-align: middle;\n",
       "    }\n",
       "\n",
       "    .dataframe tbody tr th {\n",
       "        vertical-align: top;\n",
       "    }\n",
       "\n",
       "    .dataframe thead th {\n",
       "        text-align: right;\n",
       "    }\n",
       "</style>\n",
       "<table border=\"1\" class=\"dataframe\">\n",
       "  <thead>\n",
       "    <tr style=\"text-align: right;\">\n",
       "      <th></th>\n",
       "      <th>Company/Brand</th>\n",
       "      <th>Sector</th>\n",
       "      <th>Stage</th>\n",
       "      <th>Amount($)</th>\n",
       "      <th>HeadQuarter</th>\n",
       "      <th>What it does</th>\n",
       "      <th>year</th>\n",
       "      <th>Founded</th>\n",
       "      <th>Founders</th>\n",
       "      <th>Investor</th>\n",
       "    </tr>\n",
       "  </thead>\n",
       "  <tbody>\n",
       "    <tr>\n",
       "      <th>0</th>\n",
       "      <td>TheCollegeFever</td>\n",
       "      <td>Brand Marketing, Event Promotion, Marketing, S...</td>\n",
       "      <td>Seed</td>\n",
       "      <td>250000</td>\n",
       "      <td>Bangalore, Karnataka, India</td>\n",
       "      <td>TheCollegeFever is a hub for fun, fiesta and f...</td>\n",
       "      <td>2018</td>\n",
       "      <td>NaN</td>\n",
       "      <td>NaN</td>\n",
       "      <td>NaN</td>\n",
       "    </tr>\n",
       "    <tr>\n",
       "      <th>1</th>\n",
       "      <td>Happy Cow Dairy</td>\n",
       "      <td>Agriculture, Farming</td>\n",
       "      <td>Seed</td>\n",
       "      <td>₹40,000,000</td>\n",
       "      <td>Mumbai, Maharashtra, India</td>\n",
       "      <td>A startup which aggregates milk from dairy far...</td>\n",
       "      <td>2018</td>\n",
       "      <td>NaN</td>\n",
       "      <td>NaN</td>\n",
       "      <td>NaN</td>\n",
       "    </tr>\n",
       "    <tr>\n",
       "      <th>2</th>\n",
       "      <td>MyLoanCare</td>\n",
       "      <td>Credit, Financial Services, Lending, Marketplace</td>\n",
       "      <td>Series A</td>\n",
       "      <td>₹65,000,000</td>\n",
       "      <td>Gurgaon, Haryana, India</td>\n",
       "      <td>Leading Online Loans Marketplace in India</td>\n",
       "      <td>2018</td>\n",
       "      <td>NaN</td>\n",
       "      <td>NaN</td>\n",
       "      <td>NaN</td>\n",
       "    </tr>\n",
       "    <tr>\n",
       "      <th>3</th>\n",
       "      <td>PayMe India</td>\n",
       "      <td>Financial Services, FinTech</td>\n",
       "      <td>Angel</td>\n",
       "      <td>2000000</td>\n",
       "      <td>Noida, Uttar Pradesh, India</td>\n",
       "      <td>PayMe India is an innovative FinTech organizat...</td>\n",
       "      <td>2018</td>\n",
       "      <td>NaN</td>\n",
       "      <td>NaN</td>\n",
       "      <td>NaN</td>\n",
       "    </tr>\n",
       "    <tr>\n",
       "      <th>4</th>\n",
       "      <td>Eunimart</td>\n",
       "      <td>E-Commerce Platforms, Retail, SaaS</td>\n",
       "      <td>Seed</td>\n",
       "      <td>—</td>\n",
       "      <td>Hyderabad, Andhra Pradesh, India</td>\n",
       "      <td>Eunimart is a one stop solution for merchants ...</td>\n",
       "      <td>2018</td>\n",
       "      <td>NaN</td>\n",
       "      <td>NaN</td>\n",
       "      <td>NaN</td>\n",
       "    </tr>\n",
       "    <tr>\n",
       "      <th>...</th>\n",
       "      <td>...</td>\n",
       "      <td>...</td>\n",
       "      <td>...</td>\n",
       "      <td>...</td>\n",
       "      <td>...</td>\n",
       "      <td>...</td>\n",
       "      <td>...</td>\n",
       "      <td>...</td>\n",
       "      <td>...</td>\n",
       "      <td>...</td>\n",
       "    </tr>\n",
       "    <tr>\n",
       "      <th>1204</th>\n",
       "      <td>Gigforce</td>\n",
       "      <td>Staffing &amp; Recruiting</td>\n",
       "      <td>Pre-series A</td>\n",
       "      <td>$3,000,000</td>\n",
       "      <td>Gurugram</td>\n",
       "      <td>A gig/on-demand staffing company.</td>\n",
       "      <td>2021</td>\n",
       "      <td>2019.0</td>\n",
       "      <td>Chirag Mittal, Anirudh Syal</td>\n",
       "      <td>Endiya Partners</td>\n",
       "    </tr>\n",
       "    <tr>\n",
       "      <th>1205</th>\n",
       "      <td>Vahdam</td>\n",
       "      <td>Food &amp; Beverages</td>\n",
       "      <td>Series D</td>\n",
       "      <td>$20,000,000</td>\n",
       "      <td>New Delhi</td>\n",
       "      <td>VAHDAM is among the world’s first vertically i...</td>\n",
       "      <td>2021</td>\n",
       "      <td>2015.0</td>\n",
       "      <td>Bala Sarda</td>\n",
       "      <td>IIFL AMC</td>\n",
       "    </tr>\n",
       "    <tr>\n",
       "      <th>1206</th>\n",
       "      <td>Leap Finance</td>\n",
       "      <td>Financial Services</td>\n",
       "      <td>Series C</td>\n",
       "      <td>$55,000,000</td>\n",
       "      <td>Bangalore</td>\n",
       "      <td>International education loans for high potenti...</td>\n",
       "      <td>2021</td>\n",
       "      <td>2019.0</td>\n",
       "      <td>Arnav Kumar, Vaibhav Singh</td>\n",
       "      <td>Owl Ventures</td>\n",
       "    </tr>\n",
       "    <tr>\n",
       "      <th>1207</th>\n",
       "      <td>CollegeDekho</td>\n",
       "      <td>EdTech</td>\n",
       "      <td>Series B</td>\n",
       "      <td>$26,000,000</td>\n",
       "      <td>Gurugram</td>\n",
       "      <td>Collegedekho.com is Student’s Partner, Friend ...</td>\n",
       "      <td>2021</td>\n",
       "      <td>2015.0</td>\n",
       "      <td>Ruchir Arora</td>\n",
       "      <td>Winter Capital, ETS, Man Capital</td>\n",
       "    </tr>\n",
       "    <tr>\n",
       "      <th>1208</th>\n",
       "      <td>WeRize</td>\n",
       "      <td>Financial Services</td>\n",
       "      <td>Series A</td>\n",
       "      <td>$8,000,000</td>\n",
       "      <td>Bangalore</td>\n",
       "      <td>India’s first socially distributed full stack ...</td>\n",
       "      <td>2021</td>\n",
       "      <td>2019.0</td>\n",
       "      <td>Vishal Chopra, Himanshu Gupta</td>\n",
       "      <td>3one4 Capital, Kalaari Capital</td>\n",
       "    </tr>\n",
       "  </tbody>\n",
       "</table>\n",
       "<p>2879 rows × 10 columns</p>\n",
       "</div>"
      ],
      "text/plain": [
       "        Company/Brand                                             Sector  \\\n",
       "0     TheCollegeFever  Brand Marketing, Event Promotion, Marketing, S...   \n",
       "1     Happy Cow Dairy                               Agriculture, Farming   \n",
       "2          MyLoanCare   Credit, Financial Services, Lending, Marketplace   \n",
       "3         PayMe India                        Financial Services, FinTech   \n",
       "4            Eunimart                 E-Commerce Platforms, Retail, SaaS   \n",
       "...               ...                                                ...   \n",
       "1204         Gigforce                              Staffing & Recruiting   \n",
       "1205           Vahdam                                   Food & Beverages   \n",
       "1206     Leap Finance                                 Financial Services   \n",
       "1207     CollegeDekho                                             EdTech   \n",
       "1208           WeRize                                 Financial Services   \n",
       "\n",
       "             Stage     Amount($)                       HeadQuarter  \\\n",
       "0             Seed        250000       Bangalore, Karnataka, India   \n",
       "1             Seed   ₹40,000,000        Mumbai, Maharashtra, India   \n",
       "2         Series A   ₹65,000,000           Gurgaon, Haryana, India   \n",
       "3            Angel       2000000       Noida, Uttar Pradesh, India   \n",
       "4             Seed             —  Hyderabad, Andhra Pradesh, India   \n",
       "...            ...           ...                               ...   \n",
       "1204  Pre-series A   $3,000,000                           Gurugram   \n",
       "1205      Series D  $20,000,000                          New Delhi   \n",
       "1206      Series C  $55,000,000                          Bangalore   \n",
       "1207      Series B  $26,000,000                           Gurugram   \n",
       "1208      Series A   $8,000,000                          Bangalore   \n",
       "\n",
       "                                           What it does  year Founded  \\\n",
       "0     TheCollegeFever is a hub for fun, fiesta and f...  2018     NaN   \n",
       "1     A startup which aggregates milk from dairy far...  2018     NaN   \n",
       "2             Leading Online Loans Marketplace in India  2018     NaN   \n",
       "3     PayMe India is an innovative FinTech organizat...  2018     NaN   \n",
       "4     Eunimart is a one stop solution for merchants ...  2018     NaN   \n",
       "...                                                 ...   ...     ...   \n",
       "1204                  A gig/on-demand staffing company.  2021  2019.0   \n",
       "1205  VAHDAM is among the world’s first vertically i...  2021  2015.0   \n",
       "1206  International education loans for high potenti...  2021  2019.0   \n",
       "1207  Collegedekho.com is Student’s Partner, Friend ...  2021  2015.0   \n",
       "1208  India’s first socially distributed full stack ...  2021  2019.0   \n",
       "\n",
       "                           Founders                          Investor  \n",
       "0                               NaN                               NaN  \n",
       "1                               NaN                               NaN  \n",
       "2                               NaN                               NaN  \n",
       "3                               NaN                               NaN  \n",
       "4                               NaN                               NaN  \n",
       "...                             ...                               ...  \n",
       "1204    Chirag Mittal, Anirudh Syal                   Endiya Partners  \n",
       "1205                     Bala Sarda                          IIFL AMC  \n",
       "1206     Arnav Kumar, Vaibhav Singh                      Owl Ventures  \n",
       "1207                   Ruchir Arora  Winter Capital, ETS, Man Capital  \n",
       "1208  Vishal Chopra, Himanshu Gupta    3one4 Capital, Kalaari Capital  \n",
       "\n",
       "[2879 rows x 10 columns]"
      ]
     },
     "execution_count": 13,
     "metadata": {},
     "output_type": "execute_result"
    }
   ],
   "source": [
    "data\n"
   ]
  },
  {
   "cell_type": "code",
   "execution_count": 14,
   "id": "9e2d8b7b",
   "metadata": {},
   "outputs": [
    {
     "data": {
      "text/plain": [
       "Index(['Company/Brand', 'Sector', 'Stage', 'Amount($)', 'HeadQuarter',\n",
       "       'What it does', 'year', 'Founded', 'Founders', 'Investor'],\n",
       "      dtype='object')"
      ]
     },
     "execution_count": 14,
     "metadata": {},
     "output_type": "execute_result"
    }
   ],
   "source": [
    "data.columns"
   ]
  },
  {
   "cell_type": "code",
   "execution_count": 15,
   "id": "4dc8de69",
   "metadata": {},
   "outputs": [
    {
     "data": {
      "text/html": [
       "<div>\n",
       "<style scoped>\n",
       "    .dataframe tbody tr th:only-of-type {\n",
       "        vertical-align: middle;\n",
       "    }\n",
       "\n",
       "    .dataframe tbody tr th {\n",
       "        vertical-align: top;\n",
       "    }\n",
       "\n",
       "    .dataframe thead th {\n",
       "        text-align: right;\n",
       "    }\n",
       "</style>\n",
       "<table border=\"1\" class=\"dataframe\">\n",
       "  <thead>\n",
       "    <tr style=\"text-align: right;\">\n",
       "      <th></th>\n",
       "      <th>Company/Brand</th>\n",
       "      <th>Sector</th>\n",
       "      <th>Stage</th>\n",
       "      <th>Amount($)</th>\n",
       "      <th>HeadQuarter</th>\n",
       "      <th>What it does</th>\n",
       "      <th>year</th>\n",
       "      <th>Founded</th>\n",
       "      <th>Founders</th>\n",
       "      <th>Investor</th>\n",
       "    </tr>\n",
       "  </thead>\n",
       "  <tbody>\n",
       "    <tr>\n",
       "      <th>0</th>\n",
       "      <td>TheCollegeFever</td>\n",
       "      <td>Brand Marketing, Event Promotion, Marketing, S...</td>\n",
       "      <td>Seed</td>\n",
       "      <td>250000</td>\n",
       "      <td>Bangalore, Karnataka, India</td>\n",
       "      <td>TheCollegeFever is a hub for fun, fiesta and f...</td>\n",
       "      <td>2018</td>\n",
       "      <td>NaN</td>\n",
       "      <td>NaN</td>\n",
       "      <td>NaN</td>\n",
       "    </tr>\n",
       "    <tr>\n",
       "      <th>1</th>\n",
       "      <td>Happy Cow Dairy</td>\n",
       "      <td>Agriculture, Farming</td>\n",
       "      <td>Seed</td>\n",
       "      <td>₹40,000,000</td>\n",
       "      <td>Mumbai, Maharashtra, India</td>\n",
       "      <td>A startup which aggregates milk from dairy far...</td>\n",
       "      <td>2018</td>\n",
       "      <td>NaN</td>\n",
       "      <td>NaN</td>\n",
       "      <td>NaN</td>\n",
       "    </tr>\n",
       "    <tr>\n",
       "      <th>2</th>\n",
       "      <td>MyLoanCare</td>\n",
       "      <td>Credit, Financial Services, Lending, Marketplace</td>\n",
       "      <td>Series A</td>\n",
       "      <td>₹65,000,000</td>\n",
       "      <td>Gurgaon, Haryana, India</td>\n",
       "      <td>Leading Online Loans Marketplace in India</td>\n",
       "      <td>2018</td>\n",
       "      <td>NaN</td>\n",
       "      <td>NaN</td>\n",
       "      <td>NaN</td>\n",
       "    </tr>\n",
       "    <tr>\n",
       "      <th>3</th>\n",
       "      <td>PayMe India</td>\n",
       "      <td>Financial Services, FinTech</td>\n",
       "      <td>Angel</td>\n",
       "      <td>2000000</td>\n",
       "      <td>Noida, Uttar Pradesh, India</td>\n",
       "      <td>PayMe India is an innovative FinTech organizat...</td>\n",
       "      <td>2018</td>\n",
       "      <td>NaN</td>\n",
       "      <td>NaN</td>\n",
       "      <td>NaN</td>\n",
       "    </tr>\n",
       "    <tr>\n",
       "      <th>4</th>\n",
       "      <td>Eunimart</td>\n",
       "      <td>E-Commerce Platforms, Retail, SaaS</td>\n",
       "      <td>Seed</td>\n",
       "      <td>—</td>\n",
       "      <td>Hyderabad, Andhra Pradesh, India</td>\n",
       "      <td>Eunimart is a one stop solution for merchants ...</td>\n",
       "      <td>2018</td>\n",
       "      <td>NaN</td>\n",
       "      <td>NaN</td>\n",
       "      <td>NaN</td>\n",
       "    </tr>\n",
       "  </tbody>\n",
       "</table>\n",
       "</div>"
      ],
      "text/plain": [
       "     Company/Brand                                             Sector  \\\n",
       "0  TheCollegeFever  Brand Marketing, Event Promotion, Marketing, S...   \n",
       "1  Happy Cow Dairy                               Agriculture, Farming   \n",
       "2       MyLoanCare   Credit, Financial Services, Lending, Marketplace   \n",
       "3      PayMe India                        Financial Services, FinTech   \n",
       "4         Eunimart                 E-Commerce Platforms, Retail, SaaS   \n",
       "\n",
       "      Stage    Amount($)                       HeadQuarter  \\\n",
       "0      Seed       250000       Bangalore, Karnataka, India   \n",
       "1      Seed  ₹40,000,000        Mumbai, Maharashtra, India   \n",
       "2  Series A  ₹65,000,000           Gurgaon, Haryana, India   \n",
       "3     Angel      2000000       Noida, Uttar Pradesh, India   \n",
       "4      Seed            —  Hyderabad, Andhra Pradesh, India   \n",
       "\n",
       "                                        What it does  year Founded Founders  \\\n",
       "0  TheCollegeFever is a hub for fun, fiesta and f...  2018     NaN      NaN   \n",
       "1  A startup which aggregates milk from dairy far...  2018     NaN      NaN   \n",
       "2          Leading Online Loans Marketplace in India  2018     NaN      NaN   \n",
       "3  PayMe India is an innovative FinTech organizat...  2018     NaN      NaN   \n",
       "4  Eunimart is a one stop solution for merchants ...  2018     NaN      NaN   \n",
       "\n",
       "  Investor  \n",
       "0      NaN  \n",
       "1      NaN  \n",
       "2      NaN  \n",
       "3      NaN  \n",
       "4      NaN  "
      ]
     },
     "execution_count": 15,
     "metadata": {},
     "output_type": "execute_result"
    }
   ],
   "source": [
    "data.head()"
   ]
  },
  {
   "cell_type": "code",
   "execution_count": 16,
   "id": "b2ccc938",
   "metadata": {},
   "outputs": [
    {
     "data": {
      "text/plain": [
       "0       4\n",
       "67      4\n",
       "65      4\n",
       "64      4\n",
       "63      4\n",
       "       ..\n",
       "1106    1\n",
       "1107    1\n",
       "1108    1\n",
       "1109    1\n",
       "1208    1\n",
       "Name: count, Length: 1209, dtype: int64"
      ]
     },
     "execution_count": 16,
     "metadata": {},
     "output_type": "execute_result"
    }
   ],
   "source": [
    "data.index.value_counts()"
   ]
  },
  {
   "cell_type": "code",
   "execution_count": 17,
   "id": "ac055e44",
   "metadata": {},
   "outputs": [],
   "source": [
    "data.reset_index(drop=True,inplace=True)"
   ]
  },
  {
   "cell_type": "code",
   "execution_count": 18,
   "id": "e4f399a4",
   "metadata": {},
   "outputs": [
    {
     "data": {
      "text/html": [
       "<div>\n",
       "<style scoped>\n",
       "    .dataframe tbody tr th:only-of-type {\n",
       "        vertical-align: middle;\n",
       "    }\n",
       "\n",
       "    .dataframe tbody tr th {\n",
       "        vertical-align: top;\n",
       "    }\n",
       "\n",
       "    .dataframe thead th {\n",
       "        text-align: right;\n",
       "    }\n",
       "</style>\n",
       "<table border=\"1\" class=\"dataframe\">\n",
       "  <thead>\n",
       "    <tr style=\"text-align: right;\">\n",
       "      <th></th>\n",
       "      <th>Company/Brand</th>\n",
       "      <th>Sector</th>\n",
       "      <th>Stage</th>\n",
       "      <th>Amount($)</th>\n",
       "      <th>HeadQuarter</th>\n",
       "      <th>What it does</th>\n",
       "      <th>year</th>\n",
       "      <th>Founded</th>\n",
       "      <th>Founders</th>\n",
       "      <th>Investor</th>\n",
       "    </tr>\n",
       "  </thead>\n",
       "  <tbody>\n",
       "    <tr>\n",
       "      <th>0</th>\n",
       "      <td>TheCollegeFever</td>\n",
       "      <td>Brand Marketing, Event Promotion, Marketing, S...</td>\n",
       "      <td>Seed</td>\n",
       "      <td>250000</td>\n",
       "      <td>Bangalore, Karnataka, India</td>\n",
       "      <td>TheCollegeFever is a hub for fun, fiesta and f...</td>\n",
       "      <td>2018</td>\n",
       "      <td>NaN</td>\n",
       "      <td>NaN</td>\n",
       "      <td>NaN</td>\n",
       "    </tr>\n",
       "    <tr>\n",
       "      <th>1</th>\n",
       "      <td>Happy Cow Dairy</td>\n",
       "      <td>Agriculture, Farming</td>\n",
       "      <td>Seed</td>\n",
       "      <td>₹40,000,000</td>\n",
       "      <td>Mumbai, Maharashtra, India</td>\n",
       "      <td>A startup which aggregates milk from dairy far...</td>\n",
       "      <td>2018</td>\n",
       "      <td>NaN</td>\n",
       "      <td>NaN</td>\n",
       "      <td>NaN</td>\n",
       "    </tr>\n",
       "    <tr>\n",
       "      <th>2</th>\n",
       "      <td>MyLoanCare</td>\n",
       "      <td>Credit, Financial Services, Lending, Marketplace</td>\n",
       "      <td>Series A</td>\n",
       "      <td>₹65,000,000</td>\n",
       "      <td>Gurgaon, Haryana, India</td>\n",
       "      <td>Leading Online Loans Marketplace in India</td>\n",
       "      <td>2018</td>\n",
       "      <td>NaN</td>\n",
       "      <td>NaN</td>\n",
       "      <td>NaN</td>\n",
       "    </tr>\n",
       "    <tr>\n",
       "      <th>3</th>\n",
       "      <td>PayMe India</td>\n",
       "      <td>Financial Services, FinTech</td>\n",
       "      <td>Angel</td>\n",
       "      <td>2000000</td>\n",
       "      <td>Noida, Uttar Pradesh, India</td>\n",
       "      <td>PayMe India is an innovative FinTech organizat...</td>\n",
       "      <td>2018</td>\n",
       "      <td>NaN</td>\n",
       "      <td>NaN</td>\n",
       "      <td>NaN</td>\n",
       "    </tr>\n",
       "    <tr>\n",
       "      <th>4</th>\n",
       "      <td>Eunimart</td>\n",
       "      <td>E-Commerce Platforms, Retail, SaaS</td>\n",
       "      <td>Seed</td>\n",
       "      <td>—</td>\n",
       "      <td>Hyderabad, Andhra Pradesh, India</td>\n",
       "      <td>Eunimart is a one stop solution for merchants ...</td>\n",
       "      <td>2018</td>\n",
       "      <td>NaN</td>\n",
       "      <td>NaN</td>\n",
       "      <td>NaN</td>\n",
       "    </tr>\n",
       "    <tr>\n",
       "      <th>...</th>\n",
       "      <td>...</td>\n",
       "      <td>...</td>\n",
       "      <td>...</td>\n",
       "      <td>...</td>\n",
       "      <td>...</td>\n",
       "      <td>...</td>\n",
       "      <td>...</td>\n",
       "      <td>...</td>\n",
       "      <td>...</td>\n",
       "      <td>...</td>\n",
       "    </tr>\n",
       "    <tr>\n",
       "      <th>2874</th>\n",
       "      <td>Gigforce</td>\n",
       "      <td>Staffing &amp; Recruiting</td>\n",
       "      <td>Pre-series A</td>\n",
       "      <td>$3,000,000</td>\n",
       "      <td>Gurugram</td>\n",
       "      <td>A gig/on-demand staffing company.</td>\n",
       "      <td>2021</td>\n",
       "      <td>2019.0</td>\n",
       "      <td>Chirag Mittal, Anirudh Syal</td>\n",
       "      <td>Endiya Partners</td>\n",
       "    </tr>\n",
       "    <tr>\n",
       "      <th>2875</th>\n",
       "      <td>Vahdam</td>\n",
       "      <td>Food &amp; Beverages</td>\n",
       "      <td>Series D</td>\n",
       "      <td>$20,000,000</td>\n",
       "      <td>New Delhi</td>\n",
       "      <td>VAHDAM is among the world’s first vertically i...</td>\n",
       "      <td>2021</td>\n",
       "      <td>2015.0</td>\n",
       "      <td>Bala Sarda</td>\n",
       "      <td>IIFL AMC</td>\n",
       "    </tr>\n",
       "    <tr>\n",
       "      <th>2876</th>\n",
       "      <td>Leap Finance</td>\n",
       "      <td>Financial Services</td>\n",
       "      <td>Series C</td>\n",
       "      <td>$55,000,000</td>\n",
       "      <td>Bangalore</td>\n",
       "      <td>International education loans for high potenti...</td>\n",
       "      <td>2021</td>\n",
       "      <td>2019.0</td>\n",
       "      <td>Arnav Kumar, Vaibhav Singh</td>\n",
       "      <td>Owl Ventures</td>\n",
       "    </tr>\n",
       "    <tr>\n",
       "      <th>2877</th>\n",
       "      <td>CollegeDekho</td>\n",
       "      <td>EdTech</td>\n",
       "      <td>Series B</td>\n",
       "      <td>$26,000,000</td>\n",
       "      <td>Gurugram</td>\n",
       "      <td>Collegedekho.com is Student’s Partner, Friend ...</td>\n",
       "      <td>2021</td>\n",
       "      <td>2015.0</td>\n",
       "      <td>Ruchir Arora</td>\n",
       "      <td>Winter Capital, ETS, Man Capital</td>\n",
       "    </tr>\n",
       "    <tr>\n",
       "      <th>2878</th>\n",
       "      <td>WeRize</td>\n",
       "      <td>Financial Services</td>\n",
       "      <td>Series A</td>\n",
       "      <td>$8,000,000</td>\n",
       "      <td>Bangalore</td>\n",
       "      <td>India’s first socially distributed full stack ...</td>\n",
       "      <td>2021</td>\n",
       "      <td>2019.0</td>\n",
       "      <td>Vishal Chopra, Himanshu Gupta</td>\n",
       "      <td>3one4 Capital, Kalaari Capital</td>\n",
       "    </tr>\n",
       "  </tbody>\n",
       "</table>\n",
       "<p>2879 rows × 10 columns</p>\n",
       "</div>"
      ],
      "text/plain": [
       "        Company/Brand                                             Sector  \\\n",
       "0     TheCollegeFever  Brand Marketing, Event Promotion, Marketing, S...   \n",
       "1     Happy Cow Dairy                               Agriculture, Farming   \n",
       "2          MyLoanCare   Credit, Financial Services, Lending, Marketplace   \n",
       "3         PayMe India                        Financial Services, FinTech   \n",
       "4            Eunimart                 E-Commerce Platforms, Retail, SaaS   \n",
       "...               ...                                                ...   \n",
       "2874         Gigforce                              Staffing & Recruiting   \n",
       "2875           Vahdam                                   Food & Beverages   \n",
       "2876     Leap Finance                                 Financial Services   \n",
       "2877     CollegeDekho                                             EdTech   \n",
       "2878           WeRize                                 Financial Services   \n",
       "\n",
       "             Stage     Amount($)                       HeadQuarter  \\\n",
       "0             Seed        250000       Bangalore, Karnataka, India   \n",
       "1             Seed   ₹40,000,000        Mumbai, Maharashtra, India   \n",
       "2         Series A   ₹65,000,000           Gurgaon, Haryana, India   \n",
       "3            Angel       2000000       Noida, Uttar Pradesh, India   \n",
       "4             Seed             —  Hyderabad, Andhra Pradesh, India   \n",
       "...            ...           ...                               ...   \n",
       "2874  Pre-series A   $3,000,000                           Gurugram   \n",
       "2875      Series D  $20,000,000                          New Delhi   \n",
       "2876      Series C  $55,000,000                          Bangalore   \n",
       "2877      Series B  $26,000,000                           Gurugram   \n",
       "2878      Series A   $8,000,000                          Bangalore   \n",
       "\n",
       "                                           What it does  year Founded  \\\n",
       "0     TheCollegeFever is a hub for fun, fiesta and f...  2018     NaN   \n",
       "1     A startup which aggregates milk from dairy far...  2018     NaN   \n",
       "2             Leading Online Loans Marketplace in India  2018     NaN   \n",
       "3     PayMe India is an innovative FinTech organizat...  2018     NaN   \n",
       "4     Eunimart is a one stop solution for merchants ...  2018     NaN   \n",
       "...                                                 ...   ...     ...   \n",
       "2874                  A gig/on-demand staffing company.  2021  2019.0   \n",
       "2875  VAHDAM is among the world’s first vertically i...  2021  2015.0   \n",
       "2876  International education loans for high potenti...  2021  2019.0   \n",
       "2877  Collegedekho.com is Student’s Partner, Friend ...  2021  2015.0   \n",
       "2878  India’s first socially distributed full stack ...  2021  2019.0   \n",
       "\n",
       "                           Founders                          Investor  \n",
       "0                               NaN                               NaN  \n",
       "1                               NaN                               NaN  \n",
       "2                               NaN                               NaN  \n",
       "3                               NaN                               NaN  \n",
       "4                               NaN                               NaN  \n",
       "...                             ...                               ...  \n",
       "2874    Chirag Mittal, Anirudh Syal                   Endiya Partners  \n",
       "2875                     Bala Sarda                          IIFL AMC  \n",
       "2876     Arnav Kumar, Vaibhav Singh                      Owl Ventures  \n",
       "2877                   Ruchir Arora  Winter Capital, ETS, Man Capital  \n",
       "2878  Vishal Chopra, Himanshu Gupta    3one4 Capital, Kalaari Capital  \n",
       "\n",
       "[2879 rows x 10 columns]"
      ]
     },
     "execution_count": 18,
     "metadata": {},
     "output_type": "execute_result"
    }
   ],
   "source": [
    "data"
   ]
  },
  {
   "cell_type": "code",
   "execution_count": 19,
   "id": "e3397d62",
   "metadata": {},
   "outputs": [
    {
     "name": "stdout",
     "output_type": "stream",
     "text": [
      "<class 'pandas.core.frame.DataFrame'>\n",
      "RangeIndex: 2879 entries, 0 to 2878\n",
      "Data columns (total 10 columns):\n",
      " #   Column         Non-Null Count  Dtype \n",
      "---  ------         --------------  ----- \n",
      " 0   Company/Brand  2879 non-null   object\n",
      " 1   Sector         2861 non-null   object\n",
      " 2   Stage          1942 non-null   object\n",
      " 3   Amount($)      2873 non-null   object\n",
      " 4   HeadQuarter    2765 non-null   object\n",
      " 5   What it does   2879 non-null   object\n",
      " 6   year           2879 non-null   int64 \n",
      " 7   Founded        2111 non-null   object\n",
      " 8   Founders       2334 non-null   object\n",
      " 9   Investor       2249 non-null   object\n",
      "dtypes: int64(1), object(9)\n",
      "memory usage: 225.1+ KB\n"
     ]
    }
   ],
   "source": [
    "data.info()"
   ]
  },
  {
   "cell_type": "markdown",
   "id": "ef2fb9c4",
   "metadata": {},
   "source": [
    "# Data Cleaning"
   ]
  },
  {
   "cell_type": "markdown",
   "id": "5d4a0a2a",
   "metadata": {},
   "source": [
    "\n",
    "# Company/Brand"
   ]
  },
  {
   "cell_type": "code",
   "execution_count": 20,
   "id": "2cc5c625",
   "metadata": {},
   "outputs": [
    {
     "data": {
      "text/plain": [
       "Company/Brand\n",
       "BharatPe                        10\n",
       "Nykaa                            7\n",
       "Zomato                           7\n",
       "Vedantu                          6\n",
       "Spinny                           6\n",
       "                                ..\n",
       "Genrobotics                      1\n",
       "Reliance Retail Ventures Ltd     1\n",
       "Chargebee                        1\n",
       "Credit Wise Capital              1\n",
       "WeRize                           1\n",
       "Name: count, Length: 2212, dtype: int64"
      ]
     },
     "execution_count": 20,
     "metadata": {},
     "output_type": "execute_result"
    }
   ],
   "source": [
    "data['Company/Brand'].value_counts()"
   ]
  },
  {
   "cell_type": "markdown",
   "id": "d7ce5b4a",
   "metadata": {},
   "source": [
    "# Sector"
   ]
  },
  {
   "cell_type": "code",
   "execution_count": 21,
   "id": "ae742b34",
   "metadata": {},
   "outputs": [
    {
     "data": {
      "text/plain": [
       "Sector\n",
       "FinTech                              173\n",
       "EdTech                               142\n",
       "Fintech                               85\n",
       "Financial Services                    77\n",
       "Edtech                                74\n",
       "E-commerce                            73\n",
       "AgriTech                              43\n",
       "Food & Beverages                      39\n",
       "Automotive                            39\n",
       "Healthcare                            36\n",
       "Information Technology & Services     36\n",
       "Gaming                                35\n",
       "Logistics                             34\n",
       "Healthtech                            33\n",
       "HealthCare                            31\n",
       "—                                     30\n",
       "SaaS                                  30\n",
       "SaaS startup                          28\n",
       "Media                                 27\n",
       "HealthTech                            27\n",
       "Name: count, dtype: int64"
      ]
     },
     "execution_count": 21,
     "metadata": {},
     "output_type": "execute_result"
    }
   ],
   "source": [
    "data['Sector'].value_counts().head(20)"
   ]
  },
  {
   "cell_type": "code",
   "execution_count": 22,
   "id": "0b24751b",
   "metadata": {},
   "outputs": [
    {
     "data": {
      "text/plain": [
       "18"
      ]
     },
     "execution_count": 22,
     "metadata": {},
     "output_type": "execute_result"
    }
   ],
   "source": [
    "data['Sector'].isnull().sum()"
   ]
  },
  {
   "cell_type": "code",
   "execution_count": 23,
   "id": "4319ab49",
   "metadata": {},
   "outputs": [],
   "source": [
    "data['Sector'].fillna('Unknown',inplace=True)\n",
    "data['Sector']=data['Sector'].str.replace('—','Unknown')"
   ]
  },
  {
   "cell_type": "code",
   "execution_count": 24,
   "id": "d173e983",
   "metadata": {},
   "outputs": [],
   "source": [
    "data['Sector']=data['Sector'].apply(lambda x: x.lower())"
   ]
  },
  {
   "cell_type": "code",
   "execution_count": 25,
   "id": "93477b71",
   "metadata": {},
   "outputs": [
    {
     "data": {
      "text/plain": [
       "Sector\n",
       "fintech                                               258\n",
       "edtech                                                216\n",
       "financial services                                     77\n",
       "e-commerce                                             75\n",
       "healthcare                                             67\n",
       "                                                     ... \n",
       "business development, market research, outsourcing      1\n",
       "cloud computing, computer, software                     1\n",
       "finance, impact investing, mobile apps                  1\n",
       "internet, social entrepreneurship                       1\n",
       "staffing & recruiting                                   1\n",
       "Name: count, Length: 835, dtype: int64"
      ]
     },
     "execution_count": 25,
     "metadata": {},
     "output_type": "execute_result"
    }
   ],
   "source": [
    "data['Sector'].value_counts()"
   ]
  },
  {
   "cell_type": "code",
   "execution_count": 26,
   "id": "6505e3d0",
   "metadata": {},
   "outputs": [],
   "source": [
    "def tech_sector(x):\n",
    "    b=str(x).lower()\n",
    "    if 'tech' in b:\n",
    "        return 'Technology Sector'\n",
    "    else:\n",
    "        return x"
   ]
  },
  {
   "cell_type": "code",
   "execution_count": 27,
   "id": "8c0eca47",
   "metadata": {},
   "outputs": [],
   "source": [
    "data['Sector']=data['Sector'].apply(tech_sector)"
   ]
  },
  {
   "cell_type": "code",
   "execution_count": 28,
   "id": "1fc6aa1b",
   "metadata": {},
   "outputs": [
    {
     "data": {
      "text/plain": [
       "Sector\n",
       "Technology Sector                                     952\n",
       "financial services                                     77\n",
       "e-commerce                                             75\n",
       "healthcare                                             67\n",
       "unknown                                                48\n",
       "                                                     ... \n",
       "internet, social news, sports                           1\n",
       "e-commerce & ar                                         1\n",
       "customer service, software, video, video streaming      1\n",
       "e-commerce, food processing                             1\n",
       "staffing & recruiting                                   1\n",
       "Name: count, Length: 696, dtype: int64"
      ]
     },
     "execution_count": 28,
     "metadata": {},
     "output_type": "execute_result"
    }
   ],
   "source": [
    "data['Sector'].value_counts()"
   ]
  },
  {
   "cell_type": "code",
   "execution_count": 29,
   "id": "463c38dc",
   "metadata": {},
   "outputs": [
    {
     "name": "stdout",
     "output_type": "stream",
     "text": [
      "<class 'pandas.core.frame.DataFrame'>\n",
      "RangeIndex: 2879 entries, 0 to 2878\n",
      "Data columns (total 10 columns):\n",
      " #   Column         Non-Null Count  Dtype \n",
      "---  ------         --------------  ----- \n",
      " 0   Company/Brand  2879 non-null   object\n",
      " 1   Sector         2879 non-null   object\n",
      " 2   Stage          1942 non-null   object\n",
      " 3   Amount($)      2873 non-null   object\n",
      " 4   HeadQuarter    2765 non-null   object\n",
      " 5   What it does   2879 non-null   object\n",
      " 6   year           2879 non-null   int64 \n",
      " 7   Founded        2111 non-null   object\n",
      " 8   Founders       2334 non-null   object\n",
      " 9   Investor       2249 non-null   object\n",
      "dtypes: int64(1), object(9)\n",
      "memory usage: 225.1+ KB\n"
     ]
    }
   ],
   "source": [
    "data.info()"
   ]
  },
  {
   "cell_type": "markdown",
   "id": "8c3d8962",
   "metadata": {},
   "source": [
    "# Stage"
   ]
  },
  {
   "cell_type": "code",
   "execution_count": 30,
   "id": "a40eaca2",
   "metadata": {},
   "outputs": [
    {
     "data": {
      "text/plain": [
       "Stage\n",
       "Seed                        608\n",
       "Series A                    305\n",
       "Pre-series A                212\n",
       "Series B                    134\n",
       "Series C                    116\n",
       "Seed Round                   69\n",
       "Pre series A                 62\n",
       "Pre-seed                     58\n",
       "Series D                     50\n",
       "Debt                         45\n",
       "Angel                        37\n",
       "Venture - Series Unknown     37\n",
       "Series E                     30\n",
       "Pre-series B                 14\n",
       "Debt Financing               13\n",
       "Pre Series A                 12\n",
       "Series F                     11\n",
       "Private Equity               10\n",
       "Seed round                   10\n",
       "Bridge                        8\n",
       "Corporate Round               8\n",
       "Pre-Seed                      8\n",
       "Grant                         4\n",
       "Angel Round                   4\n",
       "Series H                      4\n",
       "Pre-series A1                 4\n",
       "Pre seed round                4\n",
       "Post-IPO Equity               3\n",
       "Secondary Market              3\n",
       "Seed funding                  3\n",
       "Name: count, dtype: int64"
      ]
     },
     "execution_count": 30,
     "metadata": {},
     "output_type": "execute_result"
    }
   ],
   "source": [
    "data['Stage'].value_counts().head(30)"
   ]
  },
  {
   "cell_type": "code",
   "execution_count": 31,
   "id": "a37992f2",
   "metadata": {},
   "outputs": [
    {
     "data": {
      "text/plain": [
       "937"
      ]
     },
     "execution_count": 31,
     "metadata": {},
     "output_type": "execute_result"
    }
   ],
   "source": [
    "data['Stage'].isnull().sum()"
   ]
  },
  {
   "cell_type": "code",
   "execution_count": 32,
   "id": "27fa0f81",
   "metadata": {},
   "outputs": [],
   "source": [
    "data['Stage']=data['Stage'].fillna('Unknown')"
   ]
  },
  {
   "cell_type": "code",
   "execution_count": 33,
   "id": "dab3bca4",
   "metadata": {},
   "outputs": [],
   "source": [
    "data['Stage']=data['Stage'].apply(lambda x: x.upper())"
   ]
  },
  {
   "cell_type": "code",
   "execution_count": 34,
   "id": "accc0aba",
   "metadata": {},
   "outputs": [
    {
     "data": {
      "text/plain": [
       "Stage\n",
       "UNKNOWN                     937\n",
       "SEED                        608\n",
       "SERIES A                    305\n",
       "PRE-SERIES A                212\n",
       "SERIES B                    134\n",
       "SERIES C                    116\n",
       "SEED ROUND                   79\n",
       "PRE SERIES A                 74\n",
       "PRE-SEED                     66\n",
       "SERIES D                     50\n",
       "DEBT                         45\n",
       "VENTURE - SERIES UNKNOWN     37\n",
       "ANGEL                        37\n",
       "SERIES E                     30\n",
       "PRE-SERIES B                 16\n",
       "DEBT FINANCING               13\n",
       "SERIES F                     11\n",
       "PRIVATE EQUITY               10\n",
       "CORPORATE ROUND               8\n",
       "BRIDGE                        8\n",
       "SEED FUNDING                  5\n",
       "PRE SEED ROUND                5\n",
       "ANGEL ROUND                   4\n",
       "SERIES H                      4\n",
       "GRANT                         4\n",
       "PRE-SERIES A1                 4\n",
       "SERIES G                      3\n",
       "POST-IPO EQUITY               3\n",
       "PRE-SERIES                    3\n",
       "SECONDARY MARKET              3\n",
       "Name: count, dtype: int64"
      ]
     },
     "execution_count": 34,
     "metadata": {},
     "output_type": "execute_result"
    }
   ],
   "source": [
    "data['Stage'].value_counts().head(30)"
   ]
  },
  {
   "cell_type": "code",
   "execution_count": 35,
   "id": "3262f503",
   "metadata": {},
   "outputs": [],
   "source": [
    "data['Stage']=data['Stage'].replace('PRE-SERIES A','PRE SERIES A' )\n",
    "data['Stage']=data['Stage'].replace('PRE-SERIES A1','PRE SERIES A' )\n",
    "data['Stage']=data['Stage'].replace('PRE-SERIES A','PRE SERIES A' )\n"
   ]
  },
  {
   "cell_type": "code",
   "execution_count": 36,
   "id": "2ab5da59",
   "metadata": {},
   "outputs": [
    {
     "data": {
      "text/plain": [
       "Stage\n",
       "UNKNOWN                     937\n",
       "SEED                        608\n",
       "SERIES A                    305\n",
       "PRE SERIES A                290\n",
       "SERIES B                    134\n",
       "SERIES C                    116\n",
       "SEED ROUND                   79\n",
       "PRE-SEED                     66\n",
       "SERIES D                     50\n",
       "DEBT                         45\n",
       "ANGEL                        37\n",
       "VENTURE - SERIES UNKNOWN     37\n",
       "SERIES E                     30\n",
       "PRE-SERIES B                 16\n",
       "DEBT FINANCING               13\n",
       "SERIES F                     11\n",
       "PRIVATE EQUITY               10\n",
       "CORPORATE ROUND               8\n",
       "BRIDGE                        8\n",
       "SEED FUNDING                  5\n",
       "PRE SEED ROUND                5\n",
       "SERIES H                      4\n",
       "ANGEL ROUND                   4\n",
       "GRANT                         4\n",
       "SERIES G                      3\n",
       "POST-IPO EQUITY               3\n",
       "SECONDARY MARKET              3\n",
       "PRE-SERIES                    3\n",
       "UPSPARKS                      2\n",
       "PRE-SEED ROUND                2\n",
       "Name: count, dtype: int64"
      ]
     },
     "execution_count": 36,
     "metadata": {},
     "output_type": "execute_result"
    }
   ],
   "source": [
    "data['Stage'].value_counts().head(30)"
   ]
  },
  {
   "cell_type": "markdown",
   "id": "c7e33a50",
   "metadata": {},
   "source": [
    "# What it does"
   ]
  },
  {
   "cell_type": "code",
   "execution_count": 37,
   "id": "40c6286c",
   "metadata": {},
   "outputs": [
    {
     "data": {
      "text/plain": [
       "What it does\n",
       "BYJU'S is an educational technology company that develops personalized learning programs for K-12 students.    5\n",
       "Provides online learning classes                                                                               5\n",
       "Mobile Premier League is a skill-based eSports platform used to offer cash prizes while playing games.         4\n",
       "Onine learning platform                                                                                        4\n",
       "BharatPe develops a QR code-based payment app for offline retailers and businesses.                            4\n",
       "                                                                                                              ..\n",
       "Cosmetics & beauty products online                                                                             1\n",
       "Crowdfunding, Charity, E-commerce                                                                              1\n",
       "Banks that extends two distinct fixed deposit schemes                                                          1\n",
       "Venture Partners                                                                                               1\n",
       "India’s first socially distributed full stack financial services platform for small town India                 1\n",
       "Name: count, Length: 2691, dtype: int64"
      ]
     },
     "execution_count": 37,
     "metadata": {},
     "output_type": "execute_result"
    }
   ],
   "source": [
    "data['What it does'].value_counts()"
   ]
  },
  {
   "cell_type": "code",
   "execution_count": 38,
   "id": "39193c58",
   "metadata": {},
   "outputs": [
    {
     "name": "stdout",
     "output_type": "stream",
     "text": [
      "<class 'pandas.core.frame.DataFrame'>\n",
      "RangeIndex: 2879 entries, 0 to 2878\n",
      "Data columns (total 10 columns):\n",
      " #   Column         Non-Null Count  Dtype \n",
      "---  ------         --------------  ----- \n",
      " 0   Company/Brand  2879 non-null   object\n",
      " 1   Sector         2879 non-null   object\n",
      " 2   Stage          2879 non-null   object\n",
      " 3   Amount($)      2873 non-null   object\n",
      " 4   HeadQuarter    2765 non-null   object\n",
      " 5   What it does   2879 non-null   object\n",
      " 6   year           2879 non-null   int64 \n",
      " 7   Founded        2111 non-null   object\n",
      " 8   Founders       2334 non-null   object\n",
      " 9   Investor       2249 non-null   object\n",
      "dtypes: int64(1), object(9)\n",
      "memory usage: 225.1+ KB\n"
     ]
    }
   ],
   "source": [
    "data.info()"
   ]
  },
  {
   "cell_type": "markdown",
   "id": "9e891620",
   "metadata": {},
   "source": [
    "# Headquarter"
   ]
  },
  {
   "cell_type": "code",
   "execution_count": 39,
   "id": "33a2693d",
   "metadata": {},
   "outputs": [
    {
     "data": {
      "text/plain": [
       "HeadQuarter\n",
       "Bangalore                           764\n",
       "Mumbai                              380\n",
       "Gurugram                            239\n",
       "New Delhi                           181\n",
       "Bangalore, Karnataka, India         102\n",
       "Mumbai, Maharashtra, India           94\n",
       "Chennai                              87\n",
       "Pune                                 85\n",
       "Delhi                                72\n",
       "Noida                                71\n",
       "Hyderabad                            60\n",
       "Bengaluru, Karnataka, India          55\n",
       "Gurgaon, Haryana, India              52\n",
       "New Delhi, Delhi, India              51\n",
       "Gurgaon                              28\n",
       "Ahmedabad                            23\n",
       "Pune, Maharashtra, India             20\n",
       "Chennai, Tamil Nadu, India           19\n",
       "Jaipur                               19\n",
       "Hyderabad, Andhra Pradesh, India     18\n",
       "Delhi, Delhi, India                  16\n",
       "Kolkata                              16\n",
       "Noida, Uttar Pradesh, India          15\n",
       "Haryana                              15\n",
       "Thane                                12\n",
       "Haryana, Haryana, India              11\n",
       "Indore                               10\n",
       "Jaipur, Rajasthan, India              9\n",
       "Chandigarh                            9\n",
       "Gujarat                               8\n",
       "Name: count, dtype: int64"
      ]
     },
     "execution_count": 39,
     "metadata": {},
     "output_type": "execute_result"
    }
   ],
   "source": [
    "data['HeadQuarter'].value_counts().head(30)"
   ]
  },
  {
   "cell_type": "code",
   "execution_count": 40,
   "id": "e47f8384",
   "metadata": {},
   "outputs": [],
   "source": [
    "def Hack(x):\n",
    "    return x.split(',')[0].strip()"
   ]
  },
  {
   "cell_type": "code",
   "execution_count": 41,
   "id": "2d760ffc",
   "metadata": {},
   "outputs": [
    {
     "data": {
      "text/plain": [
       "114"
      ]
     },
     "execution_count": 41,
     "metadata": {},
     "output_type": "execute_result"
    }
   ],
   "source": [
    "data['HeadQuarter'].isnull().sum()"
   ]
  },
  {
   "cell_type": "code",
   "execution_count": 42,
   "id": "7e797e78",
   "metadata": {},
   "outputs": [],
   "source": [
    "data['HeadQuarter']=data['HeadQuarter'].fillna('Unknown')"
   ]
  },
  {
   "cell_type": "code",
   "execution_count": 43,
   "id": "35aa516d",
   "metadata": {},
   "outputs": [
    {
     "data": {
      "text/plain": [
       "0"
      ]
     },
     "execution_count": 43,
     "metadata": {},
     "output_type": "execute_result"
    }
   ],
   "source": [
    "data['HeadQuarter'].isnull().sum()"
   ]
  },
  {
   "cell_type": "code",
   "execution_count": 44,
   "id": "37e79a5e",
   "metadata": {},
   "outputs": [],
   "source": [
    "data['HeadQuarter']=data['HeadQuarter'].apply(Hack)"
   ]
  },
  {
   "cell_type": "code",
   "execution_count": 45,
   "id": "e7300a48",
   "metadata": {},
   "outputs": [
    {
     "data": {
      "text/plain": [
       "HeadQuarter\n",
       "Bangalore         866\n",
       "Mumbai            474\n",
       "Gurugram          239\n",
       "New Delhi         232\n",
       "Unknown           114\n",
       "Chennai           106\n",
       "Pune              105\n",
       "Delhi              88\n",
       "Noida              86\n",
       "Gurgaon            80\n",
       "Hyderabad          78\n",
       "Bengaluru          57\n",
       "Jaipur             31\n",
       "Ahmedabad          29\n",
       "Haryana            26\n",
       "Kolkata            22\n",
       "Indore             14\n",
       "Thane              14\n",
       "Chandigarh         10\n",
       "Kochi               8\n",
       "Gujarat             8\n",
       "Jodhpur             6\n",
       "Ahmadabad           6\n",
       "San Francisco       6\n",
       "Bangalore City      5\n",
       "Coimbatore          5\n",
       "California          5\n",
       "Singapore           4\n",
       "Goa                 4\n",
       "Cochin              4\n",
       "Name: count, dtype: int64"
      ]
     },
     "execution_count": 45,
     "metadata": {},
     "output_type": "execute_result"
    }
   ],
   "source": [
    "data['HeadQuarter'].value_counts().head(30)"
   ]
  },
  {
   "cell_type": "code",
   "execution_count": 46,
   "id": "aff5f65c",
   "metadata": {},
   "outputs": [],
   "source": [
    "data['HeadQuarter']=data['HeadQuarter'].str.replace('Bengaluru','Bangalore')\n",
    "data['HeadQuarter']=data['HeadQuarter'].str.replace('New New Delhi','New Delhi')\n",
    "data['HeadQuarter']=data['HeadQuarter'].str.replace('Bangalore City','Bangalore')"
   ]
  },
  {
   "cell_type": "code",
   "execution_count": 47,
   "id": "72680606",
   "metadata": {},
   "outputs": [
    {
     "data": {
      "text/plain": [
       "HeadQuarter\n",
       "Bangalore        928\n",
       "Mumbai           474\n",
       "Gurugram         239\n",
       "New Delhi        232\n",
       "Unknown          114\n",
       "Chennai          106\n",
       "Pune             105\n",
       "Delhi             88\n",
       "Noida             86\n",
       "Gurgaon           80\n",
       "Hyderabad         78\n",
       "Jaipur            31\n",
       "Ahmedabad         29\n",
       "Haryana           26\n",
       "Kolkata           22\n",
       "Indore            14\n",
       "Thane             14\n",
       "Chandigarh        10\n",
       "Gujarat            8\n",
       "Kochi              8\n",
       "Jodhpur            6\n",
       "Ahmadabad          6\n",
       "San Francisco      6\n",
       "Coimbatore         5\n",
       "California         5\n",
       "Singapore          4\n",
       "Goa                4\n",
       "Faridabad          4\n",
       "Lucknow            4\n",
       "Andheri            4\n",
       "Name: count, dtype: int64"
      ]
     },
     "execution_count": 47,
     "metadata": {},
     "output_type": "execute_result"
    }
   ],
   "source": [
    "data['HeadQuarter'].value_counts().head(30)"
   ]
  },
  {
   "cell_type": "code",
   "execution_count": 48,
   "id": "49a8fcfa",
   "metadata": {},
   "outputs": [
    {
     "name": "stdout",
     "output_type": "stream",
     "text": [
      "<class 'pandas.core.frame.DataFrame'>\n",
      "RangeIndex: 2879 entries, 0 to 2878\n",
      "Data columns (total 10 columns):\n",
      " #   Column         Non-Null Count  Dtype \n",
      "---  ------         --------------  ----- \n",
      " 0   Company/Brand  2879 non-null   object\n",
      " 1   Sector         2879 non-null   object\n",
      " 2   Stage          2879 non-null   object\n",
      " 3   Amount($)      2873 non-null   object\n",
      " 4   HeadQuarter    2879 non-null   object\n",
      " 5   What it does   2879 non-null   object\n",
      " 6   year           2879 non-null   int64 \n",
      " 7   Founded        2111 non-null   object\n",
      " 8   Founders       2334 non-null   object\n",
      " 9   Investor       2249 non-null   object\n",
      "dtypes: int64(1), object(9)\n",
      "memory usage: 225.1+ KB\n"
     ]
    }
   ],
   "source": [
    "data.info()"
   ]
  },
  {
   "cell_type": "markdown",
   "id": "14f773f8",
   "metadata": {},
   "source": [
    "# founded"
   ]
  },
  {
   "cell_type": "code",
   "execution_count": 49,
   "id": "0cda8086",
   "metadata": {},
   "outputs": [
    {
     "data": {
      "text/plain": [
       "0          NaN\n",
       "1          NaN\n",
       "2          NaN\n",
       "3          NaN\n",
       "4          NaN\n",
       "         ...  \n",
       "2874    2019.0\n",
       "2875    2015.0\n",
       "2876    2019.0\n",
       "2877    2015.0\n",
       "2878    2019.0\n",
       "Name: Founded, Length: 2879, dtype: object"
      ]
     },
     "execution_count": 49,
     "metadata": {},
     "output_type": "execute_result"
    }
   ],
   "source": [
    "data['Founded']"
   ]
  },
  {
   "cell_type": "markdown",
   "id": "abe93db9",
   "metadata": {},
   "source": [
    "# Founders"
   ]
  },
  {
   "cell_type": "code",
   "execution_count": 50,
   "id": "dbca3cf2",
   "metadata": {},
   "outputs": [
    {
     "data": {
      "text/plain": [
       "Founders\n",
       "Byju Raveendran                                 7\n",
       "Ashneer Grover, Shashvat Nakrani                7\n",
       "Byju Raveendran, Divya Gokulnath                6\n",
       "Falguni Nayar                                   6\n",
       "Sai Srinivas Kiran G, Shubham Malhotra          5\n",
       "                                               ..\n",
       "Ishan Gupta, Aarti Gupta                        1\n",
       "Archin Shah, Abhilash Sonwane, Ritesh Gandhi    1\n",
       "Nitin Agrawal, Garima Agrawal                   1\n",
       "Darshan Shah                                    1\n",
       "Vishal Chopra, Himanshu Gupta                   1\n",
       "Name: count, Length: 1980, dtype: int64"
      ]
     },
     "execution_count": 50,
     "metadata": {},
     "output_type": "execute_result"
    }
   ],
   "source": [
    "data['Founders'].value_counts()"
   ]
  },
  {
   "cell_type": "markdown",
   "id": "4a02bb1d",
   "metadata": {},
   "source": [
    "# Investors"
   ]
  },
  {
   "cell_type": "code",
   "execution_count": 51,
   "id": "aecb4c88",
   "metadata": {},
   "outputs": [
    {
     "data": {
      "text/plain": [
       "Investor\n",
       "Inflection Point Ventures                                           36\n",
       "Venture Catalysts                                                   32\n",
       "Mumbai Angels Network                                               17\n",
       "Angel investors                                                     15\n",
       "Undisclosed                                                         13\n",
       "                                                                    ..\n",
       "Amit Burman                                                          1\n",
       "Bharat Inclusion Seed Fund, Varanium Capital, and Better Capital     1\n",
       "Inventus III India Fund                                              1\n",
       "Varanium NexGen Fund                                                 1\n",
       "3one4 Capital, Kalaari Capital                                       1\n",
       "Name: count, Length: 1774, dtype: int64"
      ]
     },
     "execution_count": 51,
     "metadata": {},
     "output_type": "execute_result"
    }
   ],
   "source": [
    "data['Investor'].value_counts()"
   ]
  },
  {
   "cell_type": "markdown",
   "id": "fe3072c3",
   "metadata": {},
   "source": [
    "# Amount($)"
   ]
  },
  {
   "cell_type": "code",
   "execution_count": 52,
   "id": "5721cb35",
   "metadata": {},
   "outputs": [
    {
     "data": {
      "text/plain": [
       "0             250000\n",
       "1        ₹40,000,000\n",
       "2        ₹65,000,000\n",
       "3            2000000\n",
       "4                  —\n",
       "            ...     \n",
       "2874     $3,000,000 \n",
       "2875    $20,000,000 \n",
       "2876    $55,000,000 \n",
       "2877    $26,000,000 \n",
       "2878     $8,000,000 \n",
       "Name: Amount($), Length: 2879, dtype: object"
      ]
     },
     "execution_count": 52,
     "metadata": {},
     "output_type": "execute_result"
    }
   ],
   "source": [
    "data['Amount($)']"
   ]
  },
  {
   "cell_type": "code",
   "execution_count": 53,
   "id": "cb65d5ab",
   "metadata": {},
   "outputs": [],
   "source": [
    "data['Amount($)']=data['Amount($)'].str.replace(',','')\n",
    "data['Amount($)']=data['Amount($)'].str.replace('₹','')\n",
    "data['Amount($)']=data['Amount($)'].str.replace('—','0')"
   ]
  },
  {
   "cell_type": "code",
   "execution_count": 54,
   "id": "a6957d02",
   "metadata": {},
   "outputs": [
    {
     "data": {
      "text/plain": [
       "0           250000\n",
       "1         40000000\n",
       "2         65000000\n",
       "3          2000000\n",
       "4                0\n",
       "           ...    \n",
       "2874     $3000000 \n",
       "2875    $20000000 \n",
       "2876    $55000000 \n",
       "2877    $26000000 \n",
       "2878     $8000000 \n",
       "Name: Amount($), Length: 2879, dtype: object"
      ]
     },
     "execution_count": 54,
     "metadata": {},
     "output_type": "execute_result"
    }
   ],
   "source": [
    "data['Amount($)']"
   ]
  },
  {
   "cell_type": "code",
   "execution_count": 55,
   "id": "51c89d37",
   "metadata": {},
   "outputs": [
    {
     "data": {
      "text/plain": [
       "6"
      ]
     },
     "execution_count": 55,
     "metadata": {},
     "output_type": "execute_result"
    }
   ],
   "source": [
    "data['Amount($)'].isnull().sum()"
   ]
  },
  {
   "cell_type": "code",
   "execution_count": 56,
   "id": "4ae9cf0f",
   "metadata": {},
   "outputs": [],
   "source": [
    "data['Amount($)'].fillna('0',inplace=True)"
   ]
  },
  {
   "cell_type": "code",
   "execution_count": 57,
   "id": "f109c9d4",
   "metadata": {},
   "outputs": [],
   "source": [
    "DollarAmount= data['Amount($)'][data['Amount($)'].str.contains('\\$')].index"
   ]
  },
  {
   "cell_type": "code",
   "execution_count": 58,
   "id": "712fa9cc",
   "metadata": {},
   "outputs": [
    {
     "data": {
      "text/plain": [
       "Index([  86,   90,   93,   95,  101,  102,  104,  106,  108,  114,\n",
       "       ...\n",
       "       2869, 2870, 2871, 2872, 2873, 2874, 2875, 2876, 2877, 2878],\n",
       "      dtype='int64', length=2011)"
      ]
     },
     "execution_count": 58,
     "metadata": {},
     "output_type": "execute_result"
    }
   ],
   "source": [
    "DollarAmount"
   ]
  },
  {
   "cell_type": "code",
   "execution_count": 59,
   "id": "c82aabe0",
   "metadata": {},
   "outputs": [
    {
     "data": {
      "text/plain": [
       "86          $143145 \n",
       "90       $742000000 \n",
       "93         $3980000 \n",
       "95           $10000 \n",
       "101     $1000000000 \n",
       "            ...     \n",
       "2874       $3000000 \n",
       "2875      $20000000 \n",
       "2876      $55000000 \n",
       "2877      $26000000 \n",
       "2878       $8000000 \n",
       "Name: Amount($), Length: 2011, dtype: object"
      ]
     },
     "execution_count": 59,
     "metadata": {},
     "output_type": "execute_result"
    }
   ],
   "source": [
    "data.loc[DollarAmount]['Amount($)']"
   ]
  },
  {
   "cell_type": "code",
   "execution_count": 60,
   "id": "4fb761e8",
   "metadata": {},
   "outputs": [],
   "source": [
    "RupeesAmount= list(set(data.index).difference(set(DollarAmount)))"
   ]
  },
  {
   "cell_type": "code",
   "execution_count": 61,
   "id": "c2076e71",
   "metadata": {},
   "outputs": [],
   "source": [
    "data['Amount($)'].loc[RupeesAmount]=data.loc[RupeesAmount]['Amount($)'].astype(float)/80"
   ]
  },
  {
   "cell_type": "code",
   "execution_count": 62,
   "id": "94210699",
   "metadata": {},
   "outputs": [
    {
     "data": {
      "text/plain": [
       "0           3125.0\n",
       "1         500000.0\n",
       "2         812500.0\n",
       "3          25000.0\n",
       "4              0.0\n",
       "           ...    \n",
       "2874     $3000000 \n",
       "2875    $20000000 \n",
       "2876    $55000000 \n",
       "2877    $26000000 \n",
       "2878     $8000000 \n",
       "Name: Amount($), Length: 2879, dtype: object"
      ]
     },
     "execution_count": 62,
     "metadata": {},
     "output_type": "execute_result"
    }
   ],
   "source": [
    "data['Amount($)']"
   ]
  },
  {
   "cell_type": "code",
   "execution_count": 63,
   "id": "6b9e3ade",
   "metadata": {},
   "outputs": [],
   "source": [
    "def dollar_rep(x):\n",
    "    if type(x)==str:\n",
    "        return x.replace('$','')\n",
    "    else:\n",
    "        return x\n",
    "        "
   ]
  },
  {
   "cell_type": "code",
   "execution_count": 64,
   "id": "baa1d0e4",
   "metadata": {},
   "outputs": [],
   "source": [
    "data['Amount($)'] = data['Amount($)'].apply(lambda x: x.replace('$', '')if isinstance(x, str) else x).astype(float)"
   ]
  },
  {
   "cell_type": "code",
   "execution_count": 65,
   "id": "8f0e7855",
   "metadata": {},
   "outputs": [
    {
     "data": {
      "text/plain": [
       "0      3125.0\n",
       "1    500000.0\n",
       "2    812500.0\n",
       "3     25000.0\n",
       "4         0.0\n",
       "5     20000.0\n",
       "6    200000.0\n",
       "7    625000.0\n",
       "8         0.0\n",
       "9         0.0\n",
       "Name: Amount($), dtype: float64"
      ]
     },
     "execution_count": 65,
     "metadata": {},
     "output_type": "execute_result"
    }
   ],
   "source": [
    "data['Amount($)'].head(10)"
   ]
  },
  {
   "cell_type": "code",
   "execution_count": 66,
   "id": "b4519f7d",
   "metadata": {},
   "outputs": [
    {
     "data": {
      "text/plain": [
       "dtype('float64')"
      ]
     },
     "execution_count": 66,
     "metadata": {},
     "output_type": "execute_result"
    }
   ],
   "source": [
    "data['Amount($)'].dtype"
   ]
  },
  {
   "cell_type": "code",
   "execution_count": 67,
   "id": "1eb3e342",
   "metadata": {},
   "outputs": [
    {
     "name": "stdout",
     "output_type": "stream",
     "text": [
      "THE DATA CLEANING IS DONE\n"
     ]
    }
   ],
   "source": [
    "print('THE DATA CLEANING IS DONE')"
   ]
  },
  {
   "cell_type": "code",
   "execution_count": 68,
   "id": "bf7f5fba",
   "metadata": {},
   "outputs": [],
   "source": [
    "#Now EDA Analysis\n"
   ]
  },
  {
   "cell_type": "code",
   "execution_count": 69,
   "id": "fd17eb16",
   "metadata": {},
   "outputs": [
    {
     "data": {
      "text/html": [
       "<div>\n",
       "<style scoped>\n",
       "    .dataframe tbody tr th:only-of-type {\n",
       "        vertical-align: middle;\n",
       "    }\n",
       "\n",
       "    .dataframe tbody tr th {\n",
       "        vertical-align: top;\n",
       "    }\n",
       "\n",
       "    .dataframe thead th {\n",
       "        text-align: right;\n",
       "    }\n",
       "</style>\n",
       "<table border=\"1\" class=\"dataframe\">\n",
       "  <thead>\n",
       "    <tr style=\"text-align: right;\">\n",
       "      <th></th>\n",
       "      <th>Amount($)</th>\n",
       "    </tr>\n",
       "    <tr>\n",
       "      <th>Company/Brand</th>\n",
       "      <th></th>\n",
       "    </tr>\n",
       "  </thead>\n",
       "  <tbody>\n",
       "    <tr>\n",
       "      <th>Alteria Capital</th>\n",
       "      <td>150000000000</td>\n",
       "    </tr>\n",
       "    <tr>\n",
       "      <th>Reliance Retail Ventures Ltd</th>\n",
       "      <td>70000000000</td>\n",
       "    </tr>\n",
       "    <tr>\n",
       "      <th>Snowflake</th>\n",
       "      <td>3000000000</td>\n",
       "    </tr>\n",
       "    <tr>\n",
       "      <th>Reliance</th>\n",
       "      <td>2200000000</td>\n",
       "    </tr>\n",
       "    <tr>\n",
       "      <th>Swiggy</th>\n",
       "      <td>1956000000</td>\n",
       "    </tr>\n",
       "    <tr>\n",
       "      <th>byju's</th>\n",
       "      <td>1940000000</td>\n",
       "    </tr>\n",
       "    <tr>\n",
       "      <th>VerSe Innovation</th>\n",
       "      <td>1550000000</td>\n",
       "    </tr>\n",
       "    <tr>\n",
       "      <th>BYJU'S</th>\n",
       "      <td>1260000000</td>\n",
       "    </tr>\n",
       "    <tr>\n",
       "      <th>Dream Sports</th>\n",
       "      <td>1240000000</td>\n",
       "    </tr>\n",
       "    <tr>\n",
       "      <th>Zomato</th>\n",
       "      <td>1031625000</td>\n",
       "    </tr>\n",
       "  </tbody>\n",
       "</table>\n",
       "</div>"
      ],
      "text/plain": [
       "                                 Amount($)\n",
       "Company/Brand                             \n",
       "Alteria Capital               150000000000\n",
       "Reliance Retail Ventures Ltd   70000000000\n",
       "Snowflake                       3000000000\n",
       "Reliance                        2200000000\n",
       "Swiggy                          1956000000\n",
       "byju's                          1940000000\n",
       "VerSe Innovation                1550000000\n",
       "BYJU'S                          1260000000\n",
       "Dream Sports                    1240000000\n",
       "Zomato                          1031625000"
      ]
     },
     "execution_count": 69,
     "metadata": {},
     "output_type": "execute_result"
    }
   ],
   "source": [
    "top_10_startups=pd.DataFrame(data.groupby('Company/Brand')['Amount($)'].sum().sort_values(ascending=False).head(10))\n",
    "top_10_startups['Amount($)']=top_10_startups['Amount($)'].apply(lambda x: math.ceil(x))\n",
    "top_10_startups"
   ]
  },
  {
   "cell_type": "code",
   "execution_count": 70,
   "id": "378e3168",
   "metadata": {},
   "outputs": [
    {
     "data": {
      "text/plain": [
       "<Axes: xlabel='Company/Brand', ylabel='Amount($)'>"
      ]
     },
     "execution_count": 70,
     "metadata": {},
     "output_type": "execute_result"
    },
    {
     "data": {
      "image/png": "[encoded data removed]",
      "text/plain": [
       "<Figure size 640x480 with 1 Axes>"
      ]
     },
     "metadata": {},
     "output_type": "display_data"
    }
   ],
   "source": [
    "sns.barplot(x=top_10_startups.index,y=top_10_startups['Amount($)'])"
   ]
  },
  {
   "cell_type": "code",
   "execution_count": 71,
   "id": "1afa5aa5",
   "metadata": {},
   "outputs": [
    {
     "data": {
      "text/html": [
       "<div>\n",
       "<style scoped>\n",
       "    .dataframe tbody tr th:only-of-type {\n",
       "        vertical-align: middle;\n",
       "    }\n",
       "\n",
       "    .dataframe tbody tr th {\n",
       "        vertical-align: top;\n",
       "    }\n",
       "\n",
       "    .dataframe thead th {\n",
       "        text-align: right;\n",
       "    }\n",
       "</style>\n",
       "<table border=\"1\" class=\"dataframe\">\n",
       "  <thead>\n",
       "    <tr style=\"text-align: right;\">\n",
       "      <th></th>\n",
       "      <th>Company/Brand</th>\n",
       "    </tr>\n",
       "    <tr>\n",
       "      <th>year</th>\n",
       "      <th></th>\n",
       "    </tr>\n",
       "  </thead>\n",
       "  <tbody>\n",
       "    <tr>\n",
       "      <th>2021</th>\n",
       "      <td>1209</td>\n",
       "    </tr>\n",
       "    <tr>\n",
       "      <th>2020</th>\n",
       "      <td>1055</td>\n",
       "    </tr>\n",
       "    <tr>\n",
       "      <th>2018</th>\n",
       "      <td>526</td>\n",
       "    </tr>\n",
       "    <tr>\n",
       "      <th>2019</th>\n",
       "      <td>89</td>\n",
       "    </tr>\n",
       "  </tbody>\n",
       "</table>\n",
       "</div>"
      ],
      "text/plain": [
       "      Company/Brand\n",
       "year               \n",
       "2021           1209\n",
       "2020           1055\n",
       "2018            526\n",
       "2019             89"
      ]
     },
     "execution_count": 71,
     "metadata": {},
     "output_type": "execute_result"
    }
   ],
   "source": [
    "pd.DataFrame(data.groupby('year')['Company/Brand'].count().sort_values(ascending=False))"
   ]
  },
  {
   "cell_type": "code",
   "execution_count": 72,
   "id": "2193a4d5",
   "metadata": {},
   "outputs": [
    {
     "name": "stdout",
     "output_type": "stream",
     "text": [
      "<class 'pandas.core.frame.DataFrame'>\n",
      "RangeIndex: 2879 entries, 0 to 2878\n",
      "Data columns (total 10 columns):\n",
      " #   Column         Non-Null Count  Dtype  \n",
      "---  ------         --------------  -----  \n",
      " 0   Company/Brand  2879 non-null   object \n",
      " 1   Sector         2879 non-null   object \n",
      " 2   Stage          2879 non-null   object \n",
      " 3   Amount($)      2879 non-null   float64\n",
      " 4   HeadQuarter    2879 non-null   object \n",
      " 5   What it does   2879 non-null   object \n",
      " 6   year           2879 non-null   int64  \n",
      " 7   Founded        2111 non-null   object \n",
      " 8   Founders       2334 non-null   object \n",
      " 9   Investor       2249 non-null   object \n",
      "dtypes: float64(1), int64(1), object(8)\n",
      "memory usage: 225.1+ KB\n"
     ]
    }
   ],
   "source": [
    "data.info()"
   ]
  },
  {
   "cell_type": "code",
   "execution_count": 73,
   "id": "7faa1818",
   "metadata": {},
   "outputs": [
    {
     "data": {
      "image/png": "[encoded data removed]",
      "text/plain": [
       "<Figure size 640x480 with 1 Axes>"
      ]
     },
     "metadata": {},
     "output_type": "display_data"
    }
   ],
   "source": [
    "p=sns.countplot(x='year',data=data,label='count')\n",
    "plt.title('Startups funded each year')\n",
    "plt.xlabel('Number of startups')\n",
    "plt.ylabel('year of funding')\n",
    "plt.show()"
   ]
  },
  {
   "cell_type": "code",
   "execution_count": 74,
   "id": "e5709229",
   "metadata": {},
   "outputs": [
    {
     "data": {
      "text/plain": [
       "HeadQuarter\n",
       "Bangalore    928\n",
       "Mumbai       474\n",
       "Gurugram     239\n",
       "New Delhi    232\n",
       "Unknown      114\n",
       "Chennai      106\n",
       "Pune         105\n",
       "Delhi         88\n",
       "Noida         86\n",
       "Gurgaon       80\n",
       "Name: count, dtype: int64"
      ]
     },
     "execution_count": 74,
     "metadata": {},
     "output_type": "execute_result"
    }
   ],
   "source": [
    "cities=data[data['HeadQuarter']!='Undisclosed']\n",
    "cities=cities['HeadQuarter'].value_counts().sort_values(ascending=False).head(10)\n",
    "cities"
   ]
  },
  {
   "cell_type": "code",
   "execution_count": 75,
   "id": "e90434bb",
   "metadata": {},
   "outputs": [
    {
     "data": {
      "text/plain": [
       "<Axes: ylabel='HeadQuarter'>"
      ]
     },
     "execution_count": 75,
     "metadata": {},
     "output_type": "execute_result"
    },
    {
     "data": {
      "image/png": "[encoded data removed]",
      "text/plain": [
       "<Figure size 640x480 with 1 Axes>"
      ]
     },
     "metadata": {},
     "output_type": "display_data"
    }
   ],
   "source": [
    "sns.barplot(x=cities.values,y=cities.index)"
   ]
  },
  {
   "cell_type": "code",
   "execution_count": 76,
   "id": "30b45103",
   "metadata": {},
   "outputs": [
    {
     "data": {
      "text/html": [
       "<div>\n",
       "<style scoped>\n",
       "    .dataframe tbody tr th:only-of-type {\n",
       "        vertical-align: middle;\n",
       "    }\n",
       "\n",
       "    .dataframe tbody tr th {\n",
       "        vertical-align: top;\n",
       "    }\n",
       "\n",
       "    .dataframe thead th {\n",
       "        text-align: right;\n",
       "    }\n",
       "</style>\n",
       "<table border=\"1\" class=\"dataframe\">\n",
       "  <thead>\n",
       "    <tr style=\"text-align: right;\">\n",
       "      <th></th>\n",
       "      <th>Sector</th>\n",
       "      <th>Company/Brand</th>\n",
       "    </tr>\n",
       "  </thead>\n",
       "  <tbody>\n",
       "    <tr>\n",
       "      <th>0</th>\n",
       "      <td>Technology Sector</td>\n",
       "      <td>952</td>\n",
       "    </tr>\n",
       "    <tr>\n",
       "      <th>1</th>\n",
       "      <td>financial services</td>\n",
       "      <td>77</td>\n",
       "    </tr>\n",
       "    <tr>\n",
       "      <th>2</th>\n",
       "      <td>e-commerce</td>\n",
       "      <td>75</td>\n",
       "    </tr>\n",
       "    <tr>\n",
       "      <th>3</th>\n",
       "      <td>healthcare</td>\n",
       "      <td>67</td>\n",
       "    </tr>\n",
       "    <tr>\n",
       "      <th>4</th>\n",
       "      <td>automotive</td>\n",
       "      <td>39</td>\n",
       "    </tr>\n",
       "    <tr>\n",
       "      <th>5</th>\n",
       "      <td>food &amp; beverages</td>\n",
       "      <td>39</td>\n",
       "    </tr>\n",
       "    <tr>\n",
       "      <th>6</th>\n",
       "      <td>gaming</td>\n",
       "      <td>35</td>\n",
       "    </tr>\n",
       "    <tr>\n",
       "      <th>7</th>\n",
       "      <td>logistics</td>\n",
       "      <td>34</td>\n",
       "    </tr>\n",
       "    <tr>\n",
       "      <th>8</th>\n",
       "      <td>computer software</td>\n",
       "      <td>31</td>\n",
       "    </tr>\n",
       "    <tr>\n",
       "      <th>9</th>\n",
       "      <td>saas</td>\n",
       "      <td>30</td>\n",
       "    </tr>\n",
       "  </tbody>\n",
       "</table>\n",
       "</div>"
      ],
      "text/plain": [
       "               Sector  Company/Brand\n",
       "0   Technology Sector            952\n",
       "1  financial services             77\n",
       "2          e-commerce             75\n",
       "3          healthcare             67\n",
       "4          automotive             39\n",
       "5    food & beverages             39\n",
       "6              gaming             35\n",
       "7           logistics             34\n",
       "8   computer software             31\n",
       "9                saas             30"
      ]
     },
     "execution_count": 76,
     "metadata": {},
     "output_type": "execute_result"
    }
   ],
   "source": [
    "sector=data[data['Sector']!='unknown']\n",
    "sector=pd.DataFrame(sector.groupby('Sector')['Company/Brand'].count().sort_values(ascending=False).reset_index().head(10))\n",
    "sector"
   ]
  },
  {
   "cell_type": "code",
   "execution_count": 77,
   "id": "437bae31",
   "metadata": {
    "scrolled": true
   },
   "outputs": [
    {
     "data": {
      "text/plain": [
       "Text(0, 0.5, 'Sector')"
      ]
     },
     "execution_count": 77,
     "metadata": {},
     "output_type": "execute_result"
    },
    {
     "data": {
      "image/png": "[encoded data removed]",
      "text/plain": [
       "<Figure size 3000x900 with 1 Axes>"
      ]
     },
     "metadata": {},
     "output_type": "display_data"
    }
   ],
   "source": [
    "plt.figure(figsize=(10,3),dpi=300)\n",
    "sns.barplot(x=sector['Sector'],y=sector['Company/Brand'])\n",
    "def addlabels(x,y):\n",
    "    for i in range(len(x)):\n",
    "        plt.text(i,y[i],y[i])\n",
    "plt.ylabel('Sector')\n"
   ]
  },
  {
   "cell_type": "code",
   "execution_count": 78,
   "id": "e1e73c0c",
   "metadata": {},
   "outputs": [
    {
     "data": {
      "text/html": [
       "<div>\n",
       "<style scoped>\n",
       "    .dataframe tbody tr th:only-of-type {\n",
       "        vertical-align: middle;\n",
       "    }\n",
       "\n",
       "    .dataframe tbody tr th {\n",
       "        vertical-align: top;\n",
       "    }\n",
       "\n",
       "    .dataframe thead th {\n",
       "        text-align: right;\n",
       "    }\n",
       "</style>\n",
       "<table border=\"1\" class=\"dataframe\">\n",
       "  <thead>\n",
       "    <tr style=\"text-align: right;\">\n",
       "      <th></th>\n",
       "      <th>Sector</th>\n",
       "      <th>Amount($)</th>\n",
       "    </tr>\n",
       "  </thead>\n",
       "  <tbody>\n",
       "    <tr>\n",
       "      <th>0</th>\n",
       "      <td>Technology Sector</td>\n",
       "      <td>169312876938</td>\n",
       "    </tr>\n",
       "    <tr>\n",
       "      <th>1</th>\n",
       "      <td>retail</td>\n",
       "      <td>70542380000</td>\n",
       "    </tr>\n",
       "    <tr>\n",
       "      <th>2</th>\n",
       "      <td>e-commerce</td>\n",
       "      <td>2891558250</td>\n",
       "    </tr>\n",
       "    <tr>\n",
       "      <th>3</th>\n",
       "      <td>multinational conglomerate company</td>\n",
       "      <td>2200000000</td>\n",
       "    </tr>\n",
       "    <tr>\n",
       "      <th>4</th>\n",
       "      <td>automotive</td>\n",
       "      <td>2111762500</td>\n",
       "    </tr>\n",
       "    <tr>\n",
       "      <th>5</th>\n",
       "      <td>financial services</td>\n",
       "      <td>1755698750</td>\n",
       "    </tr>\n",
       "    <tr>\n",
       "      <th>6</th>\n",
       "      <td>hospitality</td>\n",
       "      <td>1622892500</td>\n",
       "    </tr>\n",
       "    <tr>\n",
       "      <th>7</th>\n",
       "      <td>food delivery</td>\n",
       "      <td>1460000000</td>\n",
       "    </tr>\n",
       "    <tr>\n",
       "      <th>8</th>\n",
       "      <td>insurance</td>\n",
       "      <td>1096662500</td>\n",
       "    </tr>\n",
       "    <tr>\n",
       "      <th>9</th>\n",
       "      <td>innovation management</td>\n",
       "      <td>1000500000</td>\n",
       "    </tr>\n",
       "  </tbody>\n",
       "</table>\n",
       "</div>"
      ],
      "text/plain": [
       "                               Sector     Amount($)\n",
       "0                   Technology Sector  169312876938\n",
       "1                              retail   70542380000\n",
       "2                          e-commerce    2891558250\n",
       "3  multinational conglomerate company    2200000000\n",
       "4                          automotive    2111762500\n",
       "5                  financial services    1755698750\n",
       "6                         hospitality    1622892500\n",
       "7                       food delivery    1460000000\n",
       "8                           insurance    1096662500\n",
       "9               innovation management    1000500000"
      ]
     },
     "execution_count": 78,
     "metadata": {},
     "output_type": "execute_result"
    }
   ],
   "source": [
    "SectorAmount=pd.DataFrame(data.groupby('Sector')['Amount($)'].sum().sort_values(ascending=False).reset_index().head(10))\n",
    "SectorAmount['Amount($)']=SectorAmount['Amount($)'].apply(lambda x: math.ceil(x))\n",
    "SectorAmount"
   ]
  },
  {
   "cell_type": "code",
   "execution_count": 79,
   "id": "2375e43f",
   "metadata": {},
   "outputs": [
    {
     "data": {
      "text/plain": [
       "([<matplotlib.axis.YTick at 0x1f537f0f190>,\n",
       "  <matplotlib.axis.YTick at 0x1f537f0ccd0>],\n",
       " [Text(0, 10000000, '0.0001'), Text(0, 100000000000, '1.0000')])"
      ]
     },
     "execution_count": 79,
     "metadata": {},
     "output_type": "execute_result"
    },
    {
     "data": {
      "image/png": "[encoded data removed]",
      "text/plain": [
       "<Figure size 3000x2100 with 1 Axes>"
      ]
     },
     "metadata": {},
     "output_type": "display_data"
    }
   ],
   "source": [
    "plt.figure(figsize=(10,7),dpi=300)\n",
    "sns.barplot(x=SectorAmount['Sector'],y=SectorAmount['Amount($)'])\n",
    "\n",
    "\n",
    "plt.yticks([10000000,100000000000])"
   ]
  },
  {
   "cell_type": "code",
   "execution_count": null,
   "id": "b024f9af",
   "metadata": {},
   "outputs": [],
   "source": []
  }
 ],
 "metadata": {
  "kernelspec": {
   "display_name": "Python 3 (ipykernel)",
   "language": "python",
   "name": "python3"
  },
  "language_info": {
   "codemirror_mode": {
    "name": "ipython",
    "version": 3
   },
   "file_extension": ".py",
   "mimetype": "text/x-python",
   "name": "python",
   "nbconvert_exporter": "python",
   "pygments_lexer": "ipython3",
   "version": "3.11.3"
  }
 },
 "nbformat": 4,
 "nbformat_minor": 5
}
